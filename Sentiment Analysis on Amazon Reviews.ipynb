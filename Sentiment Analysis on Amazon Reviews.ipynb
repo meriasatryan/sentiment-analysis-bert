{
  "cells": [
    {
      "cell_type": "markdown",
      "metadata": {
        "id": "ILQLfX94zAJD"
      },
      "source": [
        "# Sentiment Analysis on Amazon Reviews\n",
        "**Author:** Meri Asatryan  \n",
        "**Date:** April 17, 2025  \n",
        "\n",
        "## Project Overview\n",
        "\n",
        "In this project, we perform sentiment analysis on the [Amazon Review Polarity Dataset](https://www.kaggle.com/datasets/bittlingmayer/amazonreviews). The goal is to classify product reviews as either **positive** or **negative** based on their content.\n",
        "\n",
        "We explore both **classical machine learning models** (Naive Bayes, Logistic Regression, and SVM) and a **transformer-based deep learning model** (BERT) to compare performance and demonstrate the benefits of modern NLP techniques.\n",
        "\n",
        "---\n",
        "\n",
        "### Key Components:\n",
        "- **Data Cleaning and Preprocessing** using NLTK and regex\n",
        "- **Exploratory Data Analysis** with word clouds and visualizations\n",
        "- **Classical ML Models** with TF-IDF features\n",
        "- **Fine-tuned BERT Model** using HuggingFace Transformers\n",
        "- **Model Evaluation** with precision, recall, F1-score, and accuracy\n",
        "- **Real-time Sentiment Prediction** using the trained model\n",
        "\n",
        "---\n",
        "\n",
        "\n"
      ]
    },
    {
      "cell_type": "markdown",
      "metadata": {
        "id": "2dskFXRuzpsR"
      },
      "source": [
        "### Setting Up the Environment\n",
        "\n",
        "We begin by **installing** all the necessary Python packages and **importing** modules that we’ll use throughout the notebook. This includes libraries for:\n",
        "- Text processing (`nltk`, `re`, `tqdm`)\n",
        "- Visualization (`matplotlib`, `wordcloud`)\n",
        "- Machine learning (`scikit-learn`)\n",
        "- Deep learning (`transformers`, `datasets`)"
      ]
    },
    {
      "cell_type": "code",
      "execution_count": null,
      "metadata": {
        "id": "F-SbX7yxyir8"
      },
      "outputs": [],
      "source": [
        "#Install all required libraries\n",
        "!pip install -U gdown nltk tqdm wordcloud transformers datasets\n",
        "\n",
        "#Imports for data handling and processing\n",
        "import pandas as pd\n",
        "import numpy as np\n",
        "import re\n",
        "import nltk\n",
        "import matplotlib.pyplot as plt\n",
        "from tqdm import tqdm\n",
        "from collections import Counter\n",
        "from wordcloud import WordCloud\n",
        "\n",
        "#Classical ML\n",
        "from sklearn.feature_extraction.text import ENGLISH_STOP_WORDS, TfidfVectorizer\n",
        "from sklearn.model_selection import train_test_split, GridSearchCV\n",
        "from sklearn.naive_bayes import MultinomialNB\n",
        "from sklearn.linear_model import LogisticRegression\n",
        "from sklearn.svm import SVC\n",
        "from sklearn.metrics import classification_report, accuracy_score\n",
        "\n",
        "#Transformers\n",
        "from transformers import (\n",
        "    BertTokenizer, BertForSequenceClassification,\n",
        "    Trainer, TrainingArguments, pipeline\n",
        ")\n",
        "from datasets import Dataset\n",
        "import torch\n",
        "\n",
        "#Download NLTK stopwords\n",
        "nltk.download('stopwords')\n",
        "\n",
        "#Setup device (GPU or CPU)\n",
        "device = torch.device(\"cuda\" if torch.cuda.is_available() else \"cpu\")\n",
        "print(\"🚀 Using device:\", device)\n"
      ]
    },
    {
      "cell_type": "markdown",
      "metadata": {
        "id": "kybKYrMVzwNl"
      },
      "source": [
        "### Downloading the Dataset\n",
        "\n",
        "We use `gdown` to download the Amazon Review Polarity dataset from a shared Google Drive folder. This dataset contains 3.6 millions of reviews labeled as either positive or negative. It forms the foundation for training and evaluating our sentiment analysis models.\n"
      ]
    },
    {
      "cell_type": "code",
      "execution_count": null,
      "metadata": {
        "colab": {
          "base_uri": "https://localhost:8080/"
        },
        "id": "CBF6CEtddMsB",
        "outputId": "01ba7d06-2847-49d3-8f7c-fe77e0519ccc"
      },
      "outputs": [
        {
          "name": "stdout",
          "output_type": "stream",
          "text": [
            "Mounted at /content/drive\n"
          ]
        }
      ],
      "source": [
        "!gdown --folder https://drive.google.com/drive/folders/1P_T7loBWVaDDl8hRu0W6F5bmwOisQPEv"
      ]
    },
    {
      "cell_type": "markdown",
      "metadata": {
        "id": "1eelJnWAz2n3"
      },
      "source": [
        "### Loading the Review Data\n",
        "\n",
        "We load the dataset into Pandas DataFrames and assign meaningful column names (`rating`, `review_title`, `review_text`). This step helps us quickly inspect the structure of the data and prepares it for preprocessing.\n"
      ]
    },
    {
      "cell_type": "code",
      "execution_count": null,
      "metadata": {
        "colab": {
          "base_uri": "https://localhost:8080/"
        },
        "id": "abq0xZLqbAQk",
        "outputId": "ef7652d2-814f-4c8e-d6a8-fd1664ea3b8c"
      },
      "outputs": [
        {
          "name": "stdout",
          "output_type": "stream",
          "text": [
            "   rating                                       review_title  \\\n",
            "0       2                     Stuning even for the non-gamer   \n",
            "1       2              The best soundtrack ever to anything.   \n",
            "2       2                                           Amazing!   \n",
            "3       2                               Excellent Soundtrack   \n",
            "4       2  Remember, Pull Your Jaw Off The Floor After He...   \n",
            "\n",
            "                                         review_text  \n",
            "0  This sound track was beautiful! It paints the ...  \n",
            "1  I'm reading a lot of reviews saying that this ...  \n",
            "2  This soundtrack is my favorite music of all ti...  \n",
            "3  I truly like this soundtrack and I enjoy video...  \n",
            "4  If you've played the game, you know how divine...  \n"
          ]
        }
      ],
      "source": [
        "import pandas as pd\n",
        "\n",
        "train_file_path = '/content/amazon_review_polarity_csv/train.csv'\n",
        "test_file_path = '/content/amazon_review_polarity_csv/test.csv'\n",
        "\n",
        "\n",
        "train_data = pd.read_csv(train_file_path, header=None)\n",
        "train_data.columns = ['rating', 'review_title', 'review_text']\n",
        "test_data = pd.read_csv(test_file_path)\n",
        "test_data.columns = ['rating', 'review_title', 'review_text']\n",
        "\n",
        "\n",
        "print(train_data.head())\n"
      ]
    },
    {
      "cell_type": "code",
      "execution_count": null,
      "metadata": {
        "colab": {
          "base_uri": "https://localhost:8080/"
        },
        "id": "7C3iIUfxbAQx",
        "outputId": "72398c59-3f7f-410a-8f1b-e7cbcb525c1d"
      },
      "outputs": [
        {
          "name": "stdout",
          "output_type": "stream",
          "text": [
            "Index(['rating', 'review_title', 'review_text'], dtype='object')\n",
            "Index(['rating', 'review_title', 'review_text'], dtype='object')\n"
          ]
        }
      ],
      "source": [
        "print(train_data.columns)\n",
        "print(test_data.columns)\n"
      ]
    },
    {
      "cell_type": "markdown",
      "metadata": {
        "id": "nUs55KWXz9i5"
      },
      "source": [
        "### Cleaning and Normalizing Review Text\n",
        "\n",
        "To make the data usable for machine learning, we clean the review text:\n",
        "- Remove HTML tags, special characters, and numbers\n",
        "- Convert all text to lowercase\n",
        "- Remove common stopwords using NLTK\n",
        "\n",
        "We also use `tqdm` to visually track progress, as this cleaning process is applied to hundreds of thousands of reviews.\n"
      ]
    },
    {
      "cell_type": "code",
      "execution_count": null,
      "metadata": {
        "colab": {
          "base_uri": "https://localhost:8080/"
        },
        "id": "vVg8_RoEbAQy",
        "outputId": "31c91ce5-dc4d-4624-e2c2-b85f5a59638f"
      },
      "outputs": [
        {
          "name": "stderr",
          "output_type": "stream",
          "text": [
            "[nltk_data] Downloading package stopwords to /root/nltk_data...\n",
            "[nltk_data]   Unzipping corpora/stopwords.zip.\n",
            "100%|██████████| 3600000/3600000 [06:34<00:00, 9123.00it/s]\n",
            "100%|██████████| 399999/399999 [00:43<00:00, 9092.69it/s]\n"
          ]
        },
        {
          "name": "stdout",
          "output_type": "stream",
          "text": [
            "                                         review_text  \\\n",
            "0  This sound track was beautiful! It paints the ...   \n",
            "1  I'm reading a lot of reviews saying that this ...   \n",
            "2  This soundtrack is my favorite music of all ti...   \n",
            "3  I truly like this soundtrack and I enjoy video...   \n",
            "4  If you've played the game, you know how divine...   \n",
            "\n",
            "                                      cleaned_review  rating  \n",
            "0  sound track beautiful paints senery mind well ...       2  \n",
            "1  im reading lot reviews saying best game soundt...       2  \n",
            "2  soundtrack favorite music time hands intense s...       2  \n",
            "3  truly like soundtrack enjoy video game music p...       2  \n",
            "4  youve played game know divine music every sing...       2  \n"
          ]
        }
      ],
      "source": [
        "import re\n",
        "import nltk\n",
        "from tqdm import tqdm\n",
        "\n",
        "nltk.download('stopwords')\n",
        "from nltk.corpus import stopwords\n",
        "\n",
        "# Define function to clean text\n",
        "def clean_text(text):\n",
        "    # Remove HTML tags\n",
        "    text = re.sub(r'<.*?>', '', text)\n",
        "    # Remove special characters, numbers, and extra spaces\n",
        "    text = re.sub(r'[^a-zA-Z\\s]', '', text)\n",
        "    # Convert to lowercase\n",
        "    text = text.lower()\n",
        "    # Remove stopwords\n",
        "    stop_words = set(stopwords.words('english'))\n",
        "    text = ' '.join([word for word in text.split() if word not in stop_words])\n",
        "    return text\n",
        "\n",
        "# Add tqdm to show progress while applying the cleaning function\n",
        "tqdm.pandas()\n",
        "\n",
        "# Clean the review text in both train and test data with progress bar\n",
        "train_data['cleaned_review'] = train_data['review_text'].progress_apply(clean_text)\n",
        "test_data['cleaned_review'] = test_data['review_text'].progress_apply(clean_text)\n",
        "\n",
        "# Display cleaned text\n",
        "print(train_data[['review_text', 'cleaned_review', \"rating\"]].head())\n"
      ]
    },
    {
      "cell_type": "markdown",
      "metadata": {
        "id": "Eylsuybw0Fby"
      },
      "source": [
        "### Inspecting Cleaned Reviews\n",
        "\n",
        "We display examples of the original and cleaned review text side-by-side. This helps confirm that our preprocessing function is working as expected and producing usable input for modeling.\n"
      ]
    },
    {
      "cell_type": "code",
      "execution_count": null,
      "metadata": {
        "colab": {
          "base_uri": "https://localhost:8080/"
        },
        "id": "QSwKRjJ_bAQz",
        "outputId": "47ca481a-da8b-455c-9843-5ca81c542ed8"
      },
      "outputs": [
        {
          "name": "stdout",
          "output_type": "stream",
          "text": [
            "                                         review_text  \\\n",
            "0  This sound track was beautiful! It paints the ...   \n",
            "1  I'm reading a lot of reviews saying that this ...   \n",
            "2  This soundtrack is my favorite music of all ti...   \n",
            "3  I truly like this soundtrack and I enjoy video...   \n",
            "4  If you've played the game, you know how divine...   \n",
            "\n",
            "                                      cleaned_review  rating  \n",
            "0  sound track beautiful paints senery mind well ...       2  \n",
            "1  im reading lot reviews saying best game soundt...       2  \n",
            "2  soundtrack favorite music time hands intense s...       2  \n",
            "3  truly like soundtrack enjoy video game music p...       2  \n",
            "4  youve played game know divine music every sing...       2  \n"
          ]
        }
      ],
      "source": [
        "# Filter rows where the rating is 1 (negative reviews)\n",
        "negative_reviews = train_data[train_data['rating'] == 2]\n",
        "\n",
        "# Display the relevant columns (review text, cleaned review, and rating)\n",
        "print(negative_reviews[['review_text', 'cleaned_review', 'rating']].head())\n"
      ]
    },
    {
      "cell_type": "markdown",
      "metadata": {
        "id": "c-Db1YEY0Kzo"
      },
      "source": [
        "Visualizing Sentiment Distribution (Training Set)\n",
        "\n",
        "To understand how balanced our dataset is, we first count how many reviews are labeled as positive and how many as negative.\n",
        "\n",
        "We then use a bar chart to plot these counts:\n",
        "- **Red bar** for negative sentiment (label 1)\n",
        "- **Green bar** for positive sentiment (label 2)\n",
        "\n",
        "This visualization is crucial because class imbalance can significantly impact model performance. Ideally, we want both classes to be relatively balanced, or we need to account for the imbalance during training.\n"
      ]
    },
    {
      "cell_type": "code",
      "execution_count": null,
      "metadata": {
        "colab": {
          "base_uri": "https://localhost:8080/",
          "height": 410
        },
        "id": "Ae4pmGIYbAQz",
        "outputId": "2373e6b3-07e3-4db6-83cc-3f8054ad26a3"
      },
      "outputs": [
        {
          "data": {
            "image/png": "[encoded data removed]",
            "text/plain": [
              "<Figure size 600x400 with 1 Axes>"
            ]
          },
          "metadata": {},
          "output_type": "display_data"
        }
      ],
      "source": [
        "import matplotlib.pyplot as plt\n",
        "\n",
        "# Count the number of positive and negative reviews\n",
        "sentiment_counts = train_data['rating'].value_counts()\n",
        "\n",
        "# Plot the sentiment distribution\n",
        "plt.figure(figsize=(6, 4))\n",
        "sentiment_counts.plot(kind='bar', color=['red', 'green'])\n",
        "plt.title('Sentiment Distribution (Training Data)')\n",
        "plt.xlabel('Sentiment')\n",
        "plt.ylabel('Count')\n",
        "plt.xticks(ticks=[0, 1], labels=['Negative', 'Positive'], rotation=0)\n",
        "plt.show()\n"
      ]
    },
    {
      "cell_type": "markdown",
      "metadata": {
        "id": "c6bCVGaf1Gnm"
      },
      "source": [
        "The bar chart shows the number of **positive** and **negative** reviews in the training dataset.\n",
        "\n",
        "**Observation:**\n",
        "- The two bars (red for negative, green for positive) are nearly **equal in height**, meaning the dataset is **perfectly balanced**.\n",
        "- This is ideal for a classification task because the model gets an equal opportunity to learn from both classes.\n",
        "- There's no need for resampling techniques like oversampling or undersampling.\n",
        "\n",
        "**Why it's important:**\n",
        "A balanced dataset ensures that the model:\n",
        "- Doesn’t become biased toward the majority class\n",
        "- Achieves **more reliable precision and recall** for both positive and negative predictions\n",
        "\n",
        "This strong class balance gives us a good foundation for fair model training and evaluation."
      ]
    },
    {
      "cell_type": "markdown",
      "metadata": {
        "id": "lH7tpmfn0Vpu"
      },
      "source": [
        "### Distribution of Review Lengths\n",
        "\n",
        "In this step, we calculate the number of words in each cleaned review. This helps us:\n",
        "- Get a feel for how verbose users are in their reviews\n",
        "- Decide how long input sequences should be when fed into models like BERT\n",
        "- Identify and filter out extremely short or long reviews if necessary\n",
        "\n",
        "We use a histogram to visualize the distribution. Most reviews tend to be between 20–100 words, which guides padding and truncation settings for tokenization later.\n"
      ]
    },
    {
      "cell_type": "code",
      "execution_count": null,
      "metadata": {
        "colab": {
          "base_uri": "https://localhost:8080/",
          "height": 410
        },
        "id": "ZJhVKCEHbAQ0",
        "outputId": "8eb55bb4-e820-4152-ba0c-907f7db102c9"
      },
      "outputs": [
        {
          "data": {
            "image/png": "[encoded data removed]",
            "text/plain": [
              "<Figure size 600x400 with 1 Axes>"
            ]
          },
          "metadata": {},
          "output_type": "display_data"
        }
      ],
      "source": [
        "# Calculate the length of each review\n",
        "train_data['review_length'] = train_data['cleaned_review'].apply(lambda x: len(x.split()))\n",
        "\n",
        "# Plot the distribution of review lengths\n",
        "plt.figure(figsize=(6, 4))\n",
        "train_data['review_length'].plot(kind='hist', bins=50, color='blue', alpha=0.7)\n",
        "plt.title('Distribution of Review Lengths (Training Data)')\n",
        "plt.xlabel('Review Length (words)')\n",
        "plt.ylabel('Frequency')\n",
        "plt.show()\n"
      ]
    },
    {
      "cell_type": "markdown",
      "metadata": {
        "id": "JgVYs3NX1vXy"
      },
      "source": [
        "This histogram visualizes how long the reviews are in terms of **number of words** after text cleaning.\n",
        "\n",
        "---\n",
        "\n",
        "**Key Observations:**\n",
        "- Most reviews fall within the **10 to 60 word** range.\n",
        "- There is a **sharp peak around 15–20 words**, showing that many users write brief reviews.\n",
        "- The distribution is **right-skewed** (long tail to the right), meaning a smaller number of reviews are significantly longer, going up to **150+ words**.\n",
        "- Very few reviews are longer than 100 words, which helps us decide a good **maximum sequence length** (e.g., 128 tokens) for BERT.\n",
        "\n",
        "---\n",
        "\n",
        "**Why this matters:**\n",
        "- Helps in deciding the **input size** for models like BERT (to avoid unnecessary padding or truncation).\n",
        "- Provides a better understanding of **user writing behavior** — most reviews are short, informal, and concise.\n",
        "- We might choose to filter out extremely short reviews (e.g., less than 5 words) if they don’t provide useful sentiment cues."
      ]
    },
    {
      "cell_type": "markdown",
      "metadata": {
        "id": "yRct20wZ3MXX"
      },
      "source": [
        "### Word Cloud of Frequent Bigrams\n",
        "Before generating the word clouds, we enhance the cleaned reviews by removing both general and domain-specific stopwords (like “book”, “movie”, “really”), and convert the text into bigrams—two-word combinations that better capture context.\n",
        "\n",
        "We sample 10,000 reviews from each sentiment class, transform them into bigrams, and combine them into strings. Then, we generate separate word clouds for positive and negative reviews, which help us visualize the most common meaningful phrases used in each group."
      ]
    },
    {
      "cell_type": "code",
      "execution_count": null,
      "metadata": {
        "colab": {
          "base_uri": "https://localhost:8080/",
          "height": 340
        },
        "id": "kf2WVyTQbAQ2",
        "outputId": "7a527756-0aef-48e0-f3a8-feb08a265f29"
      },
      "outputs": [
        {
          "name": "stderr",
          "output_type": "stream",
          "text": [
            "[nltk_data] Downloading package stopwords to /root/nltk_data...\n",
            "[nltk_data]   Package stopwords is already up-to-date!\n",
            "100%|██████████| 1800000/1800000 [00:01<00:00, 1584155.40it/s]\n",
            "100%|██████████| 1800000/1800000 [00:01<00:00, 1424720.39it/s]\n"
          ]
        },
        {
          "data": {
            "image/png": "[encoded data removed]",
            "text/plain": [
              "<Figure size 1200x600 with 2 Axes>"
            ]
          },
          "metadata": {},
          "output_type": "display_data"
        }
      ],
      "source": [
        "from wordcloud import WordCloud\n",
        "from sklearn.feature_extraction.text import ENGLISH_STOP_WORDS\n",
        "from collections import Counter\n",
        "import nltk\n",
        "\n",
        "# Download NLTK stopwords\n",
        "nltk.download('stopwords')\n",
        "\n",
        "# Add more domain-specific stopwords\n",
        "custom_stopwords = set(ENGLISH_STOP_WORDS).union({\"book\", \"one\", \"movie\", \"good\", \"really\", \"time\", \"like\", \"even\", \"use\", \"make\", \"thing\", \"read\", \"music\", \"album\"})\n",
        "\n",
        "# Create bigrams from the cleaned reviews\n",
        "def generate_bigrams(text):\n",
        "    words = text.split()\n",
        "    bigrams = [' '.join([words[i], words[i+1]]) for i in range(len(words)-1)]\n",
        "    return ' '.join(bigrams)\n",
        "\n",
        "positive_reviews = train_data[train_data['rating'] == 2]['cleaned_review'].progress_apply(lambda x: x)\n",
        "negative_reviews = train_data[train_data['rating'] == 1]['cleaned_review'].progress_apply(lambda x: x)\n",
        "\n",
        "positive_reviews_sample = positive_reviews.sample(10000)\n",
        "negative_reviews_sample = negative_reviews.sample(10000)\n",
        "# Apply bigram transformation\n",
        "positive_reviews_bigrams = positive_reviews_sample.apply(generate_bigrams)\n",
        "negative_reviews_bigrams = negative_reviews_sample.apply(generate_bigrams)\n",
        "\n",
        "# Combine the positive and negative reviews into one string\n",
        "positive_text = ' '.join(positive_reviews_bigrams)\n",
        "negative_text = ' '.join(negative_reviews_bigrams)\n",
        "\n",
        "# Generate word clouds with bigrams and refined stopwords\n",
        "positive_wc = WordCloud(width=800, height=400, background_color='white', stopwords=custom_stopwords, max_words=200).generate(positive_text)\n",
        "negative_wc = WordCloud(width=800, height=400, background_color='black', stopwords=custom_stopwords, max_words=200).generate(negative_text)\n",
        "\n",
        "# Plot the word clouds\n",
        "plt.figure(figsize=(12, 6))\n",
        "\n",
        "plt.subplot(1, 2, 1)\n",
        "plt.imshow(positive_wc, interpolation='bilinear')\n",
        "plt.title('Positive Reviews Word Cloud')\n",
        "plt.axis('off')\n",
        "\n",
        "plt.subplot(1, 2, 2)\n",
        "plt.imshow(negative_wc, interpolation='bilinear')\n",
        "plt.title('Negative Reviews Word Cloud')\n",
        "plt.axis('off')\n",
        "\n",
        "plt.show()\n"
      ]
    },
    {
      "cell_type": "markdown",
      "metadata": {
        "id": "ECTOOQkK3hEK"
      },
      "source": [
        "### Fine-Tuning BERT for Sentiment Classification\n",
        "We use the HuggingFace transformers library to fine-tune a pre-trained BERT model (bert-base-uncased) for binary sentiment classification.\n",
        "\n",
        "Steps include:\n",
        "\n",
        "Installing required libraries and checking GPU availability\n",
        "\n",
        "Converting review ratings into binary labels (0 = negative, 1 = positive)\n",
        "\n",
        "Sampling smaller subsets of the dataset for faster training\n",
        "\n",
        "Tokenizing reviews with padding and truncation\n",
        "\n",
        "Formatting the data into PyTorch-compatible tensors\n",
        "\n",
        "Initializing a BERT model for sequence classification\n",
        "\n",
        "Defining training parameters using TrainingArguments\n",
        "\n",
        "Training the model using the Trainer API"
      ]
    },
    {
      "cell_type": "code",
      "execution_count": null,
      "metadata": {
        "colab": {
          "base_uri": "https://localhost:8080/",
          "height": 1000,
          "referenced_widgets": [
            "705d6ca91ba347b18d60d00bd491af76",
            "57c04da31a564c13b2c3b52f2cd02980",
            "fe8c4c42052943a38191ed70606b69d5",
            "9fc668d593e647a682258f82aec59c30",
            "1a4fb12b96864d679e3ab133b9a594af",
            "86c9559968e6409b8092f0d44baf6353",
            "bc9a5dfd748b4df184980ae4ca5fbbcf",
            "c0017e47c2a941318b612ce71e602a0f",
            "f47f0283f67847fa9706e02187e5baea",
            "a8ccafefbbf34e91bed73650af258753",
            "b1c7c0ad9c764342b7ca1981d1eaa3b3",
            "46ff5d887f3b482aa7f077f3129f8313",
            "e8592498a1674971b8b7d2f9d43a38ee",
            "41682e9e62874502bad6ab6823504b9c",
            "6cc12dfa0d0c4f8cbd3cb3b319b47380",
            "82da4dc9cf6743c8af49e7f62f72ad4c",
            "0e8b4cd75b64441ba1407591eebab517",
            "e978503805bc445c8c73cfe2d2d7e920",
            "3be477fe94f248a8a1a77ca20d055135",
            "c1bc188974b040a9b7ab3fdb3a50df06",
            "b5a393baad8d4f578e4fff74f41e4702",
            "4c7ddc1748ba44a59f2ab19fa5c8c788",
            "caa05c92e2a74228acb46799f17a22eb",
            "ffcdc184943e487c974770bdd2a044e7",
            "7d33cc0363cf4e5a8a5f7acb159ea19e",
            "664ce4c34305414bbe24895a91e1c31e",
            "e8333caafe1246ed88247981463468f8",
            "3ebc8e0729ad445cb70bb2001207d272",
            "efb6f5f0407f49068fee61b72d2bfdbf",
            "186c71ca59c24df7961b636ca53ed336",
            "6a426ff17e864f55b392c3912c0ee623",
            "0e37c6166d46455c8908c92a4969da59",
            "41a15db8b455416c98a28f4c692c135a",
            "8e7e1af9ca2146a788289056204304e6",
            "6978137358324b0da8bf08938b6ce95a",
            "ccb68490e1d1404a9191b210af886863",
            "cb76ccb389554c3fb8a525c13183822c",
            "afc5d86cb0984e08a258c83c5e1a762f",
            "e1390d3945094393bba00962fe5080ea",
            "a33dc0f6b9914a968b634959c7bf7f6e",
            "0c8a54e106334886a5cbecf857ddb01d",
            "8f803e4e5ccd486381d13ac7065c4886",
            "0c8abbec38ae4801aaf681134f765039",
            "362c9f5276cc48fcaf7075f2472e89d5",
            "2c3e7ca0581a499694223442b376db64",
            "77cf9aadfe4645dab0956fc624afebe9",
            "fec6fe408ccd46259e840a9d51e32a98",
            "69bef58165774bbdbb18bb008290a64f",
            "1a2bebe434f04a8da6532498db1d4597",
            "d60bdca4a5fc4645a8109da86c6b4f74",
            "a95c6a297644434880f9341baae496a2",
            "306e8f591a07493cb9c5b26a7ed19676",
            "634ef48e533f4d8e8c4c584555c57457",
            "29ad0ec47e8f4e70b199b33e3c234d09",
            "e97e868ac5c240c0ae7eeb9daceeb709",
            "2f5f838d6e3a4919917e166aacf65406",
            "f22420fc47854d89a1817c714d614ce0",
            "b2eecbc3ace843feb770085350ca7e86",
            "9a371b84267042fba482f66783e694c8",
            "b96a9979ec004bdba2852343d6033c0d",
            "42423834d4d648a1addc480c1e446b37",
            "20a3e9f9b45242688a2ac1abda072f82",
            "bb743736b1bd478ba69a86843a079859",
            "af12c471955e4faab2460ee6d6d32051",
            "464413a0a7c14e69b1cb961fad5035fc",
            "519173a54aea44e79438b2fc2e32b65c",
            "d1cd4482f52c494b8ec0639b0e471e93",
            "7b5686ec7594461bb34cca19ad0f3e0f",
            "6339b261222349bf875146159f772bb7",
            "1b1c0641edf34867af7d703009f43cbb",
            "8f0e70762d284856bc04f91dc5ecb6cb",
            "4942a73e662f459eb584b39bcfc5abd1",
            "bdd3da908d474eb08924f0a666f45a03",
            "65b5f1f2be3c46f191ea98dfe2496a6c",
            "24d425541233495c8ae64fc6aefc48ea",
            "b2aeedf6ea5e458f8f31af6616c7ae4e",
            "3532862194d744c982d486240eca38ef"
          ]
        },
        "collapsed": true,
        "id": "-HiF3pHWmIeB",
        "outputId": "6e2ba7ff-a38e-4e3c-fbe1-e2707d5fad3d"
      },
      "outputs": [],
      "source": [
        "!pip install transformers datasets\n",
        "\n",
        "from transformers import BertTokenizer, BertForSequenceClassification, Trainer, TrainingArguments\n",
        "from datasets import Dataset\n",
        "import torch\n",
        "\n",
        "# ✅ GPU Check\n",
        "device = torch.device(\"cuda\" if torch.cuda.is_available() else \"cpu\")\n",
        "print(\"🚀 Using device:\", device)\n",
        "\n",
        "# ✅ Convert ratings to binary labels (1 = positive, 0 = negative)\n",
        "train_data['labels'] = train_data['rating'].apply(lambda x: 1 if x == 2 else 0)\n",
        "test_data['labels'] = test_data['rating'].apply(lambda x: 1 if x == 2 else 0)\n",
        "\n",
        "# ✅ Reduce dataset size for quicker testing (optional for Colab runtime limits)\n",
        "train_sample = train_data.sample(10000, random_state=42).reset_index(drop=True)\n",
        "test_sample = test_data.sample(2000, random_state=42).reset_index(drop=True)\n",
        "\n",
        "# ✅ Convert to HuggingFace Dataset\n",
        "train_dataset = Dataset.from_pandas(train_sample[['cleaned_review', 'labels']])\n",
        "test_dataset = Dataset.from_pandas(test_sample[['cleaned_review', 'labels']])\n",
        "\n",
        "# ✅ Load BERT tokenizer\n",
        "tokenizer = BertTokenizer.from_pretrained('bert-base-uncased')\n",
        "\n",
        "def tokenize(example):\n",
        "    return tokenizer(example['cleaned_review'], padding='max_length', truncation=True)\n",
        "\n",
        "# ✅ Tokenize\n",
        "train_dataset = train_dataset.map(tokenize, batched=True)\n",
        "test_dataset = test_dataset.map(tokenize, batched=True)\n",
        "\n",
        "# ✅ Set format for PyTorch\n",
        "train_dataset.set_format(type='torch', columns=['input_ids', 'attention_mask', 'labels'])\n",
        "test_dataset.set_format(type='torch', columns=['input_ids', 'attention_mask', 'labels'])\n",
        "\n",
        "# ✅ Load BERT model for binary classification\n",
        "model = BertForSequenceClassification.from_pretrained('bert-base-uncased', num_labels=2).to(device)\n",
        "\n",
        "# ✅ Define training arguments\n",
        "training_args = TrainingArguments(\n",
        "    output_dir='./results',\n",
        "    evaluation_strategy=\"epoch\",\n",
        "    per_device_train_batch_size=16,\n",
        "    per_device_eval_batch_size=64,\n",
        "    num_train_epochs=10,\n",
        "    weight_decay=0.01,\n",
        "    logging_dir='./logs',\n",
        "    logging_steps=10,\n",
        "    save_total_limit=1,\n",
        ")\n",
        "\n",
        "# ✅ Initialize Trainer\n",
        "trainer = Trainer(\n",
        "    model=model,\n",
        "    args=training_args,\n",
        "    train_dataset=train_dataset,\n",
        "    eval_dataset=test_dataset\n",
        ")\n",
        "\n",
        "# ✅ Train using GPU\n",
        "trainer.train()\n",
        "\n",
        "# ✅ Evaluate model performance\n",
        "eval_results = trainer.evaluate()\n",
        "print(\"📊 Evaluation results:\", eval_results)\n"
      ]
    },
    {
      "cell_type": "markdown",
      "metadata": {
        "id": "-KS1Ikti3v-C"
      },
      "source": [
        "After training, we evaluate BERT's performance on the test dataset by generating a detailed classification report.\n",
        "\n",
        "We:\n",
        "\n",
        "* Use the trained Trainer to predict labels on the test set\n",
        "\n",
        "* Extract true and predicted labels\n",
        "\n",
        "* Compute precision, recall, F1-score, and support using classification_report\n",
        "\n",
        "This helps us understand how well the model distinguishes between positive and negative reviews, and whether it performs consistently across both classes."
      ]
    },
    {
      "cell_type": "code",
      "execution_count": null,
      "metadata": {
        "colab": {
          "base_uri": "https://localhost:8080/",
          "height": 173
        },
        "id": "ujUHnk-wrbfY",
        "outputId": "87a70efd-85eb-4b42-9821-3f2031cfa54a"
      },
      "outputs": [
        {
          "data": {
            "text/html": [],
            "text/plain": [
              "<IPython.core.display.HTML object>"
            ]
          },
          "metadata": {},
          "output_type": "display_data"
        },
        {
          "name": "stdout",
          "output_type": "stream",
          "text": [
            "              precision    recall  f1-score   support\n",
            "\n",
            "    Negative       0.87      0.86      0.87      1005\n",
            "    Positive       0.86      0.87      0.87       995\n",
            "\n",
            "    accuracy                           0.87      2000\n",
            "   macro avg       0.87      0.87      0.87      2000\n",
            "weighted avg       0.87      0.87      0.87      2000\n",
            "\n"
          ]
        }
      ],
      "source": [
        "import numpy as np\n",
        "from sklearn.metrics import classification_report\n",
        "\n",
        "# Make predictions\n",
        "predictions = trainer.predict(test_dataset)\n",
        "y_true = predictions.label_ids\n",
        "y_pred = np.argmax(predictions.predictions, axis=1)\n",
        "\n",
        "# Classification report\n",
        "print(classification_report(y_true, y_pred, target_names=[\"Negative\", \"Positive\"]))\n"
      ]
    },
    {
      "cell_type": "markdown",
      "metadata": {
        "id": "ckgpUdkg4Iu-"
      },
      "source": [
        "The BERT model achieved 87% accuracy with balanced precision, recall, and F1-scores (0.87) for both negative and positive reviews.\n",
        "This shows strong, consistent performance across classes with no sign of bias."
      ]
    },
    {
      "cell_type": "code",
      "execution_count": null,
      "metadata": {
        "colab": {
          "base_uri": "https://localhost:8080/"
        },
        "id": "B2KlvdeArjgr",
        "outputId": "097f30fb-da5a-44b5-858f-2aaa41bccc8d"
      },
      "outputs": [
        {
          "data": {
            "text/plain": [
              "('/content/drive/MyDrive/bert_sentiment_model/tokenizer_config.json',\n",
              " '/content/drive/MyDrive/bert_sentiment_model/special_tokens_map.json',\n",
              " '/content/drive/MyDrive/bert_sentiment_model/vocab.txt',\n",
              " '/content/drive/MyDrive/bert_sentiment_model/added_tokens.json')"
            ]
          },
          "execution_count": 13,
          "metadata": {},
          "output_type": "execute_result"
        }
      ],
      "source": [
        "model.save_pretrained('/content/drive/MyDrive/bert_sentiment_model')\n",
        "tokenizer.save_pretrained('/content/drive/MyDrive/bert_sentiment_model')\n"
      ]
    },
    {
      "cell_type": "markdown",
      "metadata": {
        "id": "ykoueUAV4V6N"
      },
      "source": [
        "We use the trained model in a HuggingFace pipeline to make predictions on new review text.\n",
        "\n",
        "This shows the model’s ability to generalize and classify unseen user feedback correctly and confidently.\n",
        "\n"
      ]
    },
    {
      "cell_type": "code",
      "execution_count": null,
      "metadata": {
        "id": "2XTgMUu0FTDv"
      },
      "outputs": [],
      "source": [
        "feedback = \"The app is easy to use and the interface is very clean. Great experience!\"\n"
      ]
    },
    {
      "cell_type": "code",
      "execution_count": null,
      "metadata": {
        "colab": {
          "base_uri": "https://localhost:8080/"
        },
        "id": "InhszW2cFVle",
        "outputId": "e1cb8f1e-058f-4b2d-9b5f-818a2754f1f1"
      },
      "outputs": [
        {
          "name": "stderr",
          "output_type": "stream",
          "text": [
            "Device set to use cuda:0\n"
          ]
        },
        {
          "name": "stdout",
          "output_type": "stream",
          "text": [
            "📝 Feedback: I love how fast the checkout process is. Super smooth and easy to use!\n",
            "✅ Predicted Sentiment: Positive (Confidence: 0.9948)\n"
          ]
        }
      ],
      "source": [
        "from transformers import BertTokenizer, BertForSequenceClassification, pipeline\n",
        "import torch\n",
        "\n",
        "# === Load your model & tokenizer ===\n",
        "model_path = \"/content/drive/MyDrive/bert_sentiment_model\"\n",
        "tokenizer = BertTokenizer.from_pretrained(model_path)\n",
        "model = BertForSequenceClassification.from_pretrained(model_path)\n",
        "\n",
        "# === Set device ===\n",
        "device = torch.device(\"cuda\" if torch.cuda.is_available() else \"cpu\")\n",
        "model.to(device)\n",
        "\n",
        "# === Create pipeline ===\n",
        "sentiment_pipeline = pipeline(\"sentiment-analysis\", model=model, tokenizer=tokenizer, device=0 if torch.cuda.is_available() else -1)\n",
        "\n",
        "# === Example feedback ===\n",
        "example_feedback = \"I love how fast the checkout process is. Super smooth and easy to use!\"\n",
        "\n",
        "# === Run prediction ===\n",
        "result = sentiment_pipeline(example_feedback)\n",
        "label = result[0]['label']\n",
        "score = result[0]['score']\n",
        "\n",
        "# === Interpret label ===\n",
        "label_map = {\n",
        "    \"LABEL_0\": \"Negative\",\n",
        "    \"LABEL_1\": \"Positive\"\n",
        "}\n",
        "print(f\"📝 Feedback: {example_feedback}\")\n",
        "print(f\"✅ Predicted Sentiment: {label_map[label]} (Confidence: {score:.4f})\")\n"
      ]
    },
    {
      "cell_type": "markdown",
      "metadata": {
        "id": "uEnoeAYQ4Yow"
      },
      "source": [
        "We pass in a clearly negative review to confirm that the model accurately classifies it as negative, with high confidence."
      ]
    },
    {
      "cell_type": "code",
      "execution_count": null,
      "metadata": {
        "id": "OGl-CPxyGHJg"
      },
      "outputs": [],
      "source": [
        "example_feedback = \"This product is terrible. It broke after two days and the customer support was unhelpful.\"\n"
      ]
    },
    {
      "cell_type": "code",
      "execution_count": null,
      "metadata": {
        "colab": {
          "base_uri": "https://localhost:8080/"
        },
        "id": "62Rs845QGMo0",
        "outputId": "c78d368a-5d66-4550-fb04-4f6be96cdb12"
      },
      "outputs": [
        {
          "name": "stdout",
          "output_type": "stream",
          "text": [
            "📝 Feedback: This product is terrible. It broke after two days and the customer support was unhelpful.\n",
            "✅ Predicted Sentiment: Negative (Confidence: 0.9945)\n"
          ]
        }
      ],
      "source": [
        "result = sentiment_pipeline(example_feedback)\n",
        "label = result[0]['label']\n",
        "score = result[0]['score']\n",
        "\n",
        "label_map = {\n",
        "    \"LABEL_0\": \"Negative\",\n",
        "    \"LABEL_1\": \"Positive\"\n",
        "}\n",
        "\n",
        "print(f\"📝 Feedback: {example_feedback}\")\n",
        "print(f\"✅ Predicted Sentiment: {label_map[label]} (Confidence: {score:.4f})\")\n"
      ]
    },
    {
      "cell_type": "markdown",
      "metadata": {
        "id": "btsDE6eB4cZv"
      },
      "source": [
        "### Classical ML Models with TF-IDF\n",
        "We train baseline models (Naive Bayes, Logistic Regression, and SVM) using TF-IDF vectorized features.\n",
        "\n",
        "This allows for comparison between classical approaches and BERT, highlighting the performance gap."
      ]
    },
    {
      "cell_type": "code",
      "execution_count": null,
      "metadata": {
        "id": "0JV1hdBIQLVc"
      },
      "outputs": [],
      "source": [
        "from sklearn.model_selection import train_test_split, GridSearchCV\n",
        "from sklearn.feature_extraction.text import TfidfVectorizer\n",
        "from sklearn.naive_bayes import MultinomialNB\n",
        "from sklearn.linear_model import LogisticRegression\n",
        "from sklearn.svm import SVC\n",
        "from sklearn.metrics import classification_report, accuracy_score\n",
        "\n",
        "# Sample smaller dataset for classical ML\n",
        "sample_train = train_data.sample(10000, random_state=42)\n",
        "sample_test = test_data.sample(2000, random_state=42)\n",
        "\n",
        "# Extract features and labels\n",
        "X_train = sample_train['cleaned_review']\n",
        "y_train = sample_train['rating']\n",
        "X_test = sample_test['cleaned_review']\n",
        "y_test = sample_test['rating']\n",
        "\n",
        "# TF-IDF Vectorization\n",
        "tfidf = TfidfVectorizer(max_features=10000, ngram_range=(1, 2))\n",
        "X_train_tfidf = tfidf.fit_transform(X_train)\n",
        "X_test_tfidf = tfidf.transform(X_test)\n"
      ]
    },
    {
      "cell_type": "markdown",
      "metadata": {
        "id": "5ulxDjCU4ipI"
      },
      "source": [
        "### Naive Bayes Model\n",
        "We fit a Multinomial Naive Bayes model and generate a classification report to evaluate its performance.\n",
        "\n"
      ]
    },
    {
      "cell_type": "code",
      "execution_count": null,
      "metadata": {
        "colab": {
          "base_uri": "https://localhost:8080/"
        },
        "id": "5DRgFaLtQrlT",
        "outputId": "b2caa64a-9de4-4369-c95a-f0ddfdcf176c"
      },
      "outputs": [
        {
          "name": "stdout",
          "output_type": "stream",
          "text": [
            "🔹 Naive Bayes Classification Report:\n",
            "              precision    recall  f1-score   support\n",
            "\n",
            "    Negative       0.81      0.83      0.82      1005\n",
            "    Positive       0.82      0.81      0.82       995\n",
            "\n",
            "    accuracy                           0.82      2000\n",
            "   macro avg       0.82      0.82      0.82      2000\n",
            "weighted avg       0.82      0.82      0.82      2000\n",
            "\n"
          ]
        }
      ],
      "source": [
        "nb_model = MultinomialNB()\n",
        "nb_model.fit(X_train_tfidf, y_train)\n",
        "y_pred_nb = nb_model.predict(X_test_tfidf)\n",
        "\n",
        "print(\"🔹 Naive Bayes Classification Report:\")\n",
        "print(classification_report(y_test, y_pred_nb, target_names=[\"Negative\", \"Positive\"]))\n"
      ]
    },
    {
      "cell_type": "markdown",
      "metadata": {
        "id": "XXldEH5-4oMH"
      },
      "source": [
        "### Logistic Regression (with Grid Search)\n",
        "We use GridSearchCV to tune hyperparameters and train a Logistic Regression model.\n",
        "The report shows improvements over Naive Bayes, especially in accuracy."
      ]
    },
    {
      "cell_type": "code",
      "execution_count": null,
      "metadata": {
        "colab": {
          "base_uri": "https://localhost:8080/"
        },
        "id": "Frx9kYHYQuJU",
        "outputId": "0faf326c-87db-4cd3-b0f1-50625edf0fab"
      },
      "outputs": [
        {
          "name": "stdout",
          "output_type": "stream",
          "text": [
            "🔹 Logistic Regression Classification Report:\n",
            "              precision    recall  f1-score   support\n",
            "\n",
            "    Negative       0.83      0.84      0.83      1005\n",
            "    Positive       0.83      0.83      0.83       995\n",
            "\n",
            "    accuracy                           0.83      2000\n",
            "   macro avg       0.83      0.83      0.83      2000\n",
            "weighted avg       0.83      0.83      0.83      2000\n",
            "\n"
          ]
        }
      ],
      "source": [
        "logreg = LogisticRegression(max_iter=1000)\n",
        "params_logreg = {'C': [0.01, 0.1, 1, 10]}\n",
        "grid_logreg = GridSearchCV(logreg, params_logreg, cv=3, scoring='accuracy')\n",
        "grid_logreg.fit(X_train_tfidf, y_train)\n",
        "y_pred_logreg = grid_logreg.predict(X_test_tfidf)\n",
        "\n",
        "print(\"🔹 Logistic Regression Classification Report:\")\n",
        "print(classification_report(y_test, y_pred_logreg, target_names=[\"Negative\", \"Positive\"]))\n"
      ]
    },
    {
      "cell_type": "markdown",
      "metadata": {
        "id": "RTRoJImM4sQw"
      },
      "source": [
        "### Support Vector Machine (SVM)\n",
        "We train a linear-kernel SVM classifier and evaluate it using the same test data.\n",
        "Its performance is close to Logistic Regression, with balanced precision and recall."
      ]
    },
    {
      "cell_type": "code",
      "execution_count": null,
      "metadata": {
        "colab": {
          "base_uri": "https://localhost:8080/"
        },
        "id": "dtBdiBJtQvZN",
        "outputId": "032ee22c-ea93-4a1b-c197-c10b5732f325"
      },
      "outputs": [
        {
          "name": "stdout",
          "output_type": "stream",
          "text": [
            "🔹 SVM Classification Report:\n",
            "              precision    recall  f1-score   support\n",
            "\n",
            "    Negative       0.82      0.83      0.82      1005\n",
            "    Positive       0.82      0.82      0.82       995\n",
            "\n",
            "    accuracy                           0.82      2000\n",
            "   macro avg       0.82      0.82      0.82      2000\n",
            "weighted avg       0.82      0.82      0.82      2000\n",
            "\n"
          ]
        }
      ],
      "source": [
        "svm = SVC(kernel='linear')\n",
        "svm.fit(X_train_tfidf, y_train)\n",
        "y_pred_svm = svm.predict(X_test_tfidf)\n",
        "\n",
        "print(\"🔹 SVM Classification Report:\")\n",
        "print(classification_report(y_test, y_pred_svm, target_names=[\"Negative\", \"Positive\"]))\n"
      ]
    },
    {
      "cell_type": "code",
      "execution_count": null,
      "metadata": {
        "colab": {
          "base_uri": "https://localhost:8080/"
        },
        "id": "QCouDgBeQxHi",
        "outputId": "f74164ae-726a-4e2f-b133-37e8ae8820d6"
      },
      "outputs": [
        {
          "name": "stdout",
          "output_type": "stream",
          "text": [
            "✅ Accuracy Summary:\n",
            "Naive Bayes Accuracy: 0.8175\n",
            "Logistic Regression Accuracy (best params): 0.8320\n",
            "SVM Accuracy: 0.8235\n"
          ]
        }
      ],
      "source": [
        "print(\"✅ Accuracy Summary:\")\n",
        "print(f\"Naive Bayes Accuracy: {accuracy_score(y_test, y_pred_nb):.4f}\")\n",
        "print(f\"Logistic Regression Accuracy (best params): {accuracy_score(y_test, y_pred_logreg):.4f}\")\n",
        "print(f\"SVM Accuracy: {accuracy_score(y_test, y_pred_svm):.4f}\")\n"
      ]
    },
    {
      "cell_type": "markdown",
      "metadata": {
        "id": "MA870c_cS8L4"
      },
      "source": [
        "Among the baseline models, Logistic Regression achieved the highest performance with an accuracy of 83.2%. However, the BERT-based model significantly outperformed all classical methods, reaching an accuracy of 87% with balanced precision, recall, and F1-score. This improvement demonstrates the value of using transformer-based architectures for sentiment analysis tasks, especially when dealing with nuanced textual data."
      ]
    }
  ],
  "metadata": {
    "accelerator": "GPU",
    "colab": {
      "gpuType": "A100",
      "machine_shape": "hm",
      "provenance": []
    },
    "kernelspec": {
      "display_name": "Python 3",
      "name": "python3"
    },
    "language_info": {
      "codemirror_mode": {
        "name": "ipython",
        "version": 3
      },
      "file_extension": ".py",
      "mimetype": "text/x-python",
      "name": "python",
      "nbconvert_exporter": "python",
      "pygments_lexer": "ipython3",
      "version": "3.10.7"
    },
    "widgets": {
      "application/vnd.jupyter.widget-state+json": {
        "0c8a54e106334886a5cbecf857ddb01d": {
          "model_module": "@jupyter-widgets/base",
          "model_module_version": "1.2.0",
          "model_name": "LayoutModel",
          "state": {
            "_model_module": "@jupyter-widgets/base",
            "_model_module_version": "1.2.0",
            "_model_name": "LayoutModel",
            "_view_count": null,
            "_view_module": "@jupyter-widgets/base",
            "_view_module_version": "1.2.0",
            "_view_name": "LayoutView",
            "align_content": null,
            "align_items": null,
            "align_self": null,
            "border": null,
            "bottom": null,
            "display": null,
            "flex": null,
            "flex_flow": null,
            "grid_area": null,
            "grid_auto_columns": null,
            "grid_auto_flow": null,
            "grid_auto_rows": null,
            "grid_column": null,
            "grid_gap": null,
            "grid_row": null,
            "grid_template_areas": null,
            "grid_template_columns": null,
            "grid_template_rows": null,
            "height": null,
            "justify_content": null,
            "justify_items": null,
            "left": null,
            "margin": null,
            "max_height": null,
            "max_width": null,
            "min_height": null,
            "min_width": null,
            "object_fit": null,
            "object_position": null,
            "order": null,
            "overflow": null,
            "overflow_x": null,
            "overflow_y": null,
            "padding": null,
            "right": null,
            "top": null,
            "visibility": null,
            "width": null
          }
        },
        "0c8abbec38ae4801aaf681134f765039": {
          "model_module": "@jupyter-widgets/base",
          "model_module_version": "1.2.0",
          "model_name": "LayoutModel",
          "state": {
            "_model_module": "@jupyter-widgets/base",
            "_model_module_version": "1.2.0",
            "_model_name": "LayoutModel",
            "_view_count": null,
            "_view_module": "@jupyter-widgets/base",
            "_view_module_version": "1.2.0",
            "_view_name": "LayoutView",
            "align_content": null,
            "align_items": null,
            "align_self": null,
            "border": null,
            "bottom": null,
            "display": null,
            "flex": null,
            "flex_flow": null,
            "grid_area": null,
            "grid_auto_columns": null,
            "grid_auto_flow": null,
            "grid_auto_rows": null,
            "grid_column": null,
            "grid_gap": null,
            "grid_row": null,
            "grid_template_areas": null,
            "grid_template_columns": null,
            "grid_template_rows": null,
            "height": null,
            "justify_content": null,
            "justify_items": null,
            "left": null,
            "margin": null,
            "max_height": null,
            "max_width": null,
            "min_height": null,
            "min_width": null,
            "object_fit": null,
            "object_position": null,
            "order": null,
            "overflow": null,
            "overflow_x": null,
            "overflow_y": null,
            "padding": null,
            "right": null,
            "top": null,
            "visibility": null,
            "width": null
          }
        },
        "0e37c6166d46455c8908c92a4969da59": {
          "model_module": "@jupyter-widgets/base",
          "model_module_version": "1.2.0",
          "model_name": "LayoutModel",
          "state": {
            "_model_module": "@jupyter-widgets/base",
            "_model_module_version": "1.2.0",
            "_model_name": "LayoutModel",
            "_view_count": null,
            "_view_module": "@jupyter-widgets/base",
            "_view_module_version": "1.2.0",
            "_view_name": "LayoutView",
            "align_content": null,
            "align_items": null,
            "align_self": null,
            "border": null,
            "bottom": null,
            "display": null,
            "flex": null,
            "flex_flow": null,
            "grid_area": null,
            "grid_auto_columns": null,
            "grid_auto_flow": null,
            "grid_auto_rows": null,
            "grid_column": null,
            "grid_gap": null,
            "grid_row": null,
            "grid_template_areas": null,
            "grid_template_columns": null,
            "grid_template_rows": null,
            "height": null,
            "justify_content": null,
            "justify_items": null,
            "left": null,
            "margin": null,
            "max_height": null,
            "max_width": null,
            "min_height": null,
            "min_width": null,
            "object_fit": null,
            "object_position": null,
            "order": null,
            "overflow": null,
            "overflow_x": null,
            "overflow_y": null,
            "padding": null,
            "right": null,
            "top": null,
            "visibility": null,
            "width": null
          }
        },
        "0e8b4cd75b64441ba1407591eebab517": {
          "model_module": "@jupyter-widgets/base",
          "model_module_version": "1.2.0",
          "model_name": "LayoutModel",
          "state": {
            "_model_module": "@jupyter-widgets/base",
            "_model_module_version": "1.2.0",
            "_model_name": "LayoutModel",
            "_view_count": null,
            "_view_module": "@jupyter-widgets/base",
            "_view_module_version": "1.2.0",
            "_view_name": "LayoutView",
            "align_content": null,
            "align_items": null,
            "align_self": null,
            "border": null,
            "bottom": null,
            "display": null,
            "flex": null,
            "flex_flow": null,
            "grid_area": null,
            "grid_auto_columns": null,
            "grid_auto_flow": null,
            "grid_auto_rows": null,
            "grid_column": null,
            "grid_gap": null,
            "grid_row": null,
            "grid_template_areas": null,
            "grid_template_columns": null,
            "grid_template_rows": null,
            "height": null,
            "justify_content": null,
            "justify_items": null,
            "left": null,
            "margin": null,
            "max_height": null,
            "max_width": null,
            "min_height": null,
            "min_width": null,
            "object_fit": null,
            "object_position": null,
            "order": null,
            "overflow": null,
            "overflow_x": null,
            "overflow_y": null,
            "padding": null,
            "right": null,
            "top": null,
            "visibility": null,
            "width": null
          }
        },
        "186c71ca59c24df7961b636ca53ed336": {
          "model_module": "@jupyter-widgets/base",
          "model_module_version": "1.2.0",
          "model_name": "LayoutModel",
          "state": {
            "_model_module": "@jupyter-widgets/base",
            "_model_module_version": "1.2.0",
            "_model_name": "LayoutModel",
            "_view_count": null,
            "_view_module": "@jupyter-widgets/base",
            "_view_module_version": "1.2.0",
            "_view_name": "LayoutView",
            "align_content": null,
            "align_items": null,
            "align_self": null,
            "border": null,
            "bottom": null,
            "display": null,
            "flex": null,
            "flex_flow": null,
            "grid_area": null,
            "grid_auto_columns": null,
            "grid_auto_flow": null,
            "grid_auto_rows": null,
            "grid_column": null,
            "grid_gap": null,
            "grid_row": null,
            "grid_template_areas": null,
            "grid_template_columns": null,
            "grid_template_rows": null,
            "height": null,
            "justify_content": null,
            "justify_items": null,
            "left": null,
            "margin": null,
            "max_height": null,
            "max_width": null,
            "min_height": null,
            "min_width": null,
            "object_fit": null,
            "object_position": null,
            "order": null,
            "overflow": null,
            "overflow_x": null,
            "overflow_y": null,
            "padding": null,
            "right": null,
            "top": null,
            "visibility": null,
            "width": null
          }
        },
        "1a2bebe434f04a8da6532498db1d4597": {
          "model_module": "@jupyter-widgets/base",
          "model_module_version": "1.2.0",
          "model_name": "LayoutModel",
          "state": {
            "_model_module": "@jupyter-widgets/base",
            "_model_module_version": "1.2.0",
            "_model_name": "LayoutModel",
            "_view_count": null,
            "_view_module": "@jupyter-widgets/base",
            "_view_module_version": "1.2.0",
            "_view_name": "LayoutView",
            "align_content": null,
            "align_items": null,
            "align_self": null,
            "border": null,
            "bottom": null,
            "display": null,
            "flex": null,
            "flex_flow": null,
            "grid_area": null,
            "grid_auto_columns": null,
            "grid_auto_flow": null,
            "grid_auto_rows": null,
            "grid_column": null,
            "grid_gap": null,
            "grid_row": null,
            "grid_template_areas": null,
            "grid_template_columns": null,
            "grid_template_rows": null,
            "height": null,
            "justify_content": null,
            "justify_items": null,
            "left": null,
            "margin": null,
            "max_height": null,
            "max_width": null,
            "min_height": null,
            "min_width": null,
            "object_fit": null,
            "object_position": null,
            "order": null,
            "overflow": null,
            "overflow_x": null,
            "overflow_y": null,
            "padding": null,
            "right": null,
            "top": null,
            "visibility": null,
            "width": null
          }
        },
        "1a4fb12b96864d679e3ab133b9a594af": {
          "model_module": "@jupyter-widgets/base",
          "model_module_version": "1.2.0",
          "model_name": "LayoutModel",
          "state": {
            "_model_module": "@jupyter-widgets/base",
            "_model_module_version": "1.2.0",
            "_model_name": "LayoutModel",
            "_view_count": null,
            "_view_module": "@jupyter-widgets/base",
            "_view_module_version": "1.2.0",
            "_view_name": "LayoutView",
            "align_content": null,
            "align_items": null,
            "align_self": null,
            "border": null,
            "bottom": null,
            "display": null,
            "flex": null,
            "flex_flow": null,
            "grid_area": null,
            "grid_auto_columns": null,
            "grid_auto_flow": null,
            "grid_auto_rows": null,
            "grid_column": null,
            "grid_gap": null,
            "grid_row": null,
            "grid_template_areas": null,
            "grid_template_columns": null,
            "grid_template_rows": null,
            "height": null,
            "justify_content": null,
            "justify_items": null,
            "left": null,
            "margin": null,
            "max_height": null,
            "max_width": null,
            "min_height": null,
            "min_width": null,
            "object_fit": null,
            "object_position": null,
            "order": null,
            "overflow": null,
            "overflow_x": null,
            "overflow_y": null,
            "padding": null,
            "right": null,
            "top": null,
            "visibility": null,
            "width": null
          }
        },
        "1b1c0641edf34867af7d703009f43cbb": {
          "model_module": "@jupyter-widgets/controls",
          "model_module_version": "1.5.0",
          "model_name": "HTMLModel",
          "state": {
            "_dom_classes": [],
            "_model_module": "@jupyter-widgets/controls",
            "_model_module_version": "1.5.0",
            "_model_name": "HTMLModel",
            "_view_count": null,
            "_view_module": "@jupyter-widgets/controls",
            "_view_module_version": "1.5.0",
            "_view_name": "HTMLView",
            "description": "",
            "description_tooltip": null,
            "layout": "IPY_MODEL_b2aeedf6ea5e458f8f31af6616c7ae4e",
            "placeholder": "​",
            "style": "IPY_MODEL_3532862194d744c982d486240eca38ef",
            "value": " 440M/440M [00:01&lt;00:00, 268MB/s]"
          }
        },
        "20a3e9f9b45242688a2ac1abda072f82": {
          "model_module": "@jupyter-widgets/controls",
          "model_module_version": "1.5.0",
          "model_name": "DescriptionStyleModel",
          "state": {
            "_model_module": "@jupyter-widgets/controls",
            "_model_module_version": "1.5.0",
            "_model_name": "DescriptionStyleModel",
            "_view_count": null,
            "_view_module": "@jupyter-widgets/base",
            "_view_module_version": "1.2.0",
            "_view_name": "StyleView",
            "description_width": ""
          }
        },
        "24d425541233495c8ae64fc6aefc48ea": {
          "model_module": "@jupyter-widgets/controls",
          "model_module_version": "1.5.0",
          "model_name": "ProgressStyleModel",
          "state": {
            "_model_module": "@jupyter-widgets/controls",
            "_model_module_version": "1.5.0",
            "_model_name": "ProgressStyleModel",
            "_view_count": null,
            "_view_module": "@jupyter-widgets/base",
            "_view_module_version": "1.2.0",
            "_view_name": "StyleView",
            "bar_color": null,
            "description_width": ""
          }
        },
        "29ad0ec47e8f4e70b199b33e3c234d09": {
          "model_module": "@jupyter-widgets/base",
          "model_module_version": "1.2.0",
          "model_name": "LayoutModel",
          "state": {
            "_model_module": "@jupyter-widgets/base",
            "_model_module_version": "1.2.0",
            "_model_name": "LayoutModel",
            "_view_count": null,
            "_view_module": "@jupyter-widgets/base",
            "_view_module_version": "1.2.0",
            "_view_name": "LayoutView",
            "align_content": null,
            "align_items": null,
            "align_self": null,
            "border": null,
            "bottom": null,
            "display": null,
            "flex": null,
            "flex_flow": null,
            "grid_area": null,
            "grid_auto_columns": null,
            "grid_auto_flow": null,
            "grid_auto_rows": null,
            "grid_column": null,
            "grid_gap": null,
            "grid_row": null,
            "grid_template_areas": null,
            "grid_template_columns": null,
            "grid_template_rows": null,
            "height": null,
            "justify_content": null,
            "justify_items": null,
            "left": null,
            "margin": null,
            "max_height": null,
            "max_width": null,
            "min_height": null,
            "min_width": null,
            "object_fit": null,
            "object_position": null,
            "order": null,
            "overflow": null,
            "overflow_x": null,
            "overflow_y": null,
            "padding": null,
            "right": null,
            "top": null,
            "visibility": null,
            "width": null
          }
        },
        "2c3e7ca0581a499694223442b376db64": {
          "model_module": "@jupyter-widgets/controls",
          "model_module_version": "1.5.0",
          "model_name": "HBoxModel",
          "state": {
            "_dom_classes": [],
            "_model_module": "@jupyter-widgets/controls",
            "_model_module_version": "1.5.0",
            "_model_name": "HBoxModel",
            "_view_count": null,
            "_view_module": "@jupyter-widgets/controls",
            "_view_module_version": "1.5.0",
            "_view_name": "HBoxView",
            "box_style": "",
            "children": [
              "IPY_MODEL_77cf9aadfe4645dab0956fc624afebe9",
              "IPY_MODEL_fec6fe408ccd46259e840a9d51e32a98",
              "IPY_MODEL_69bef58165774bbdbb18bb008290a64f"
            ],
            "layout": "IPY_MODEL_1a2bebe434f04a8da6532498db1d4597"
          }
        },
        "2f5f838d6e3a4919917e166aacf65406": {
          "model_module": "@jupyter-widgets/controls",
          "model_module_version": "1.5.0",
          "model_name": "HBoxModel",
          "state": {
            "_dom_classes": [],
            "_model_module": "@jupyter-widgets/controls",
            "_model_module_version": "1.5.0",
            "_model_name": "HBoxModel",
            "_view_count": null,
            "_view_module": "@jupyter-widgets/controls",
            "_view_module_version": "1.5.0",
            "_view_name": "HBoxView",
            "box_style": "",
            "children": [
              "IPY_MODEL_f22420fc47854d89a1817c714d614ce0",
              "IPY_MODEL_b2eecbc3ace843feb770085350ca7e86",
              "IPY_MODEL_9a371b84267042fba482f66783e694c8"
            ],
            "layout": "IPY_MODEL_b96a9979ec004bdba2852343d6033c0d"
          }
        },
        "306e8f591a07493cb9c5b26a7ed19676": {
          "model_module": "@jupyter-widgets/base",
          "model_module_version": "1.2.0",
          "model_name": "LayoutModel",
          "state": {
            "_model_module": "@jupyter-widgets/base",
            "_model_module_version": "1.2.0",
            "_model_name": "LayoutModel",
            "_view_count": null,
            "_view_module": "@jupyter-widgets/base",
            "_view_module_version": "1.2.0",
            "_view_name": "LayoutView",
            "align_content": null,
            "align_items": null,
            "align_self": null,
            "border": null,
            "bottom": null,
            "display": null,
            "flex": null,
            "flex_flow": null,
            "grid_area": null,
            "grid_auto_columns": null,
            "grid_auto_flow": null,
            "grid_auto_rows": null,
            "grid_column": null,
            "grid_gap": null,
            "grid_row": null,
            "grid_template_areas": null,
            "grid_template_columns": null,
            "grid_template_rows": null,
            "height": null,
            "justify_content": null,
            "justify_items": null,
            "left": null,
            "margin": null,
            "max_height": null,
            "max_width": null,
            "min_height": null,
            "min_width": null,
            "object_fit": null,
            "object_position": null,
            "order": null,
            "overflow": null,
            "overflow_x": null,
            "overflow_y": null,
            "padding": null,
            "right": null,
            "top": null,
            "visibility": null,
            "width": null
          }
        },
        "3532862194d744c982d486240eca38ef": {
          "model_module": "@jupyter-widgets/controls",
          "model_module_version": "1.5.0",
          "model_name": "DescriptionStyleModel",
          "state": {
            "_model_module": "@jupyter-widgets/controls",
            "_model_module_version": "1.5.0",
            "_model_name": "DescriptionStyleModel",
            "_view_count": null,
            "_view_module": "@jupyter-widgets/base",
            "_view_module_version": "1.2.0",
            "_view_name": "StyleView",
            "description_width": ""
          }
        },
        "362c9f5276cc48fcaf7075f2472e89d5": {
          "model_module": "@jupyter-widgets/controls",
          "model_module_version": "1.5.0",
          "model_name": "DescriptionStyleModel",
          "state": {
            "_model_module": "@jupyter-widgets/controls",
            "_model_module_version": "1.5.0",
            "_model_name": "DescriptionStyleModel",
            "_view_count": null,
            "_view_module": "@jupyter-widgets/base",
            "_view_module_version": "1.2.0",
            "_view_name": "StyleView",
            "description_width": ""
          }
        },
        "3be477fe94f248a8a1a77ca20d055135": {
          "model_module": "@jupyter-widgets/base",
          "model_module_version": "1.2.0",
          "model_name": "LayoutModel",
          "state": {
            "_model_module": "@jupyter-widgets/base",
            "_model_module_version": "1.2.0",
            "_model_name": "LayoutModel",
            "_view_count": null,
            "_view_module": "@jupyter-widgets/base",
            "_view_module_version": "1.2.0",
            "_view_name": "LayoutView",
            "align_content": null,
            "align_items": null,
            "align_self": null,
            "border": null,
            "bottom": null,
            "display": null,
            "flex": null,
            "flex_flow": null,
            "grid_area": null,
            "grid_auto_columns": null,
            "grid_auto_flow": null,
            "grid_auto_rows": null,
            "grid_column": null,
            "grid_gap": null,
            "grid_row": null,
            "grid_template_areas": null,
            "grid_template_columns": null,
            "grid_template_rows": null,
            "height": null,
            "justify_content": null,
            "justify_items": null,
            "left": null,
            "margin": null,
            "max_height": null,
            "max_width": null,
            "min_height": null,
            "min_width": null,
            "object_fit": null,
            "object_position": null,
            "order": null,
            "overflow": null,
            "overflow_x": null,
            "overflow_y": null,
            "padding": null,
            "right": null,
            "top": null,
            "visibility": null,
            "width": null
          }
        },
        "3ebc8e0729ad445cb70bb2001207d272": {
          "model_module": "@jupyter-widgets/base",
          "model_module_version": "1.2.0",
          "model_name": "LayoutModel",
          "state": {
            "_model_module": "@jupyter-widgets/base",
            "_model_module_version": "1.2.0",
            "_model_name": "LayoutModel",
            "_view_count": null,
            "_view_module": "@jupyter-widgets/base",
            "_view_module_version": "1.2.0",
            "_view_name": "LayoutView",
            "align_content": null,
            "align_items": null,
            "align_self": null,
            "border": null,
            "bottom": null,
            "display": null,
            "flex": null,
            "flex_flow": null,
            "grid_area": null,
            "grid_auto_columns": null,
            "grid_auto_flow": null,
            "grid_auto_rows": null,
            "grid_column": null,
            "grid_gap": null,
            "grid_row": null,
            "grid_template_areas": null,
            "grid_template_columns": null,
            "grid_template_rows": null,
            "height": null,
            "justify_content": null,
            "justify_items": null,
            "left": null,
            "margin": null,
            "max_height": null,
            "max_width": null,
            "min_height": null,
            "min_width": null,
            "object_fit": null,
            "object_position": null,
            "order": null,
            "overflow": null,
            "overflow_x": null,
            "overflow_y": null,
            "padding": null,
            "right": null,
            "top": null,
            "visibility": null,
            "width": null
          }
        },
        "41682e9e62874502bad6ab6823504b9c": {
          "model_module": "@jupyter-widgets/controls",
          "model_module_version": "1.5.0",
          "model_name": "FloatProgressModel",
          "state": {
            "_dom_classes": [],
            "_model_module": "@jupyter-widgets/controls",
            "_model_module_version": "1.5.0",
            "_model_name": "FloatProgressModel",
            "_view_count": null,
            "_view_module": "@jupyter-widgets/controls",
            "_view_module_version": "1.5.0",
            "_view_name": "ProgressView",
            "bar_style": "success",
            "description": "",
            "description_tooltip": null,
            "layout": "IPY_MODEL_3be477fe94f248a8a1a77ca20d055135",
            "max": 231508,
            "min": 0,
            "orientation": "horizontal",
            "style": "IPY_MODEL_c1bc188974b040a9b7ab3fdb3a50df06",
            "value": 231508
          }
        },
        "41a15db8b455416c98a28f4c692c135a": {
          "model_module": "@jupyter-widgets/controls",
          "model_module_version": "1.5.0",
          "model_name": "DescriptionStyleModel",
          "state": {
            "_model_module": "@jupyter-widgets/controls",
            "_model_module_version": "1.5.0",
            "_model_name": "DescriptionStyleModel",
            "_view_count": null,
            "_view_module": "@jupyter-widgets/base",
            "_view_module_version": "1.2.0",
            "_view_name": "StyleView",
            "description_width": ""
          }
        },
        "42423834d4d648a1addc480c1e446b37": {
          "model_module": "@jupyter-widgets/base",
          "model_module_version": "1.2.0",
          "model_name": "LayoutModel",
          "state": {
            "_model_module": "@jupyter-widgets/base",
            "_model_module_version": "1.2.0",
            "_model_name": "LayoutModel",
            "_view_count": null,
            "_view_module": "@jupyter-widgets/base",
            "_view_module_version": "1.2.0",
            "_view_name": "LayoutView",
            "align_content": null,
            "align_items": null,
            "align_self": null,
            "border": null,
            "bottom": null,
            "display": null,
            "flex": null,
            "flex_flow": null,
            "grid_area": null,
            "grid_auto_columns": null,
            "grid_auto_flow": null,
            "grid_auto_rows": null,
            "grid_column": null,
            "grid_gap": null,
            "grid_row": null,
            "grid_template_areas": null,
            "grid_template_columns": null,
            "grid_template_rows": null,
            "height": null,
            "justify_content": null,
            "justify_items": null,
            "left": null,
            "margin": null,
            "max_height": null,
            "max_width": null,
            "min_height": null,
            "min_width": null,
            "object_fit": null,
            "object_position": null,
            "order": null,
            "overflow": null,
            "overflow_x": null,
            "overflow_y": null,
            "padding": null,
            "right": null,
            "top": null,
            "visibility": null,
            "width": null
          }
        },
        "464413a0a7c14e69b1cb961fad5035fc": {
          "model_module": "@jupyter-widgets/base",
          "model_module_version": "1.2.0",
          "model_name": "LayoutModel",
          "state": {
            "_model_module": "@jupyter-widgets/base",
            "_model_module_version": "1.2.0",
            "_model_name": "LayoutModel",
            "_view_count": null,
            "_view_module": "@jupyter-widgets/base",
            "_view_module_version": "1.2.0",
            "_view_name": "LayoutView",
            "align_content": null,
            "align_items": null,
            "align_self": null,
            "border": null,
            "bottom": null,
            "display": null,
            "flex": null,
            "flex_flow": null,
            "grid_area": null,
            "grid_auto_columns": null,
            "grid_auto_flow": null,
            "grid_auto_rows": null,
            "grid_column": null,
            "grid_gap": null,
            "grid_row": null,
            "grid_template_areas": null,
            "grid_template_columns": null,
            "grid_template_rows": null,
            "height": null,
            "justify_content": null,
            "justify_items": null,
            "left": null,
            "margin": null,
            "max_height": null,
            "max_width": null,
            "min_height": null,
            "min_width": null,
            "object_fit": null,
            "object_position": null,
            "order": null,
            "overflow": null,
            "overflow_x": null,
            "overflow_y": null,
            "padding": null,
            "right": null,
            "top": null,
            "visibility": null,
            "width": null
          }
        },
        "46ff5d887f3b482aa7f077f3129f8313": {
          "model_module": "@jupyter-widgets/controls",
          "model_module_version": "1.5.0",
          "model_name": "HBoxModel",
          "state": {
            "_dom_classes": [],
            "_model_module": "@jupyter-widgets/controls",
            "_model_module_version": "1.5.0",
            "_model_name": "HBoxModel",
            "_view_count": null,
            "_view_module": "@jupyter-widgets/controls",
            "_view_module_version": "1.5.0",
            "_view_name": "HBoxView",
            "box_style": "",
            "children": [
              "IPY_MODEL_e8592498a1674971b8b7d2f9d43a38ee",
              "IPY_MODEL_41682e9e62874502bad6ab6823504b9c",
              "IPY_MODEL_6cc12dfa0d0c4f8cbd3cb3b319b47380"
            ],
            "layout": "IPY_MODEL_82da4dc9cf6743c8af49e7f62f72ad4c"
          }
        },
        "4942a73e662f459eb584b39bcfc5abd1": {
          "model_module": "@jupyter-widgets/base",
          "model_module_version": "1.2.0",
          "model_name": "LayoutModel",
          "state": {
            "_model_module": "@jupyter-widgets/base",
            "_model_module_version": "1.2.0",
            "_model_name": "LayoutModel",
            "_view_count": null,
            "_view_module": "@jupyter-widgets/base",
            "_view_module_version": "1.2.0",
            "_view_name": "LayoutView",
            "align_content": null,
            "align_items": null,
            "align_self": null,
            "border": null,
            "bottom": null,
            "display": null,
            "flex": null,
            "flex_flow": null,
            "grid_area": null,
            "grid_auto_columns": null,
            "grid_auto_flow": null,
            "grid_auto_rows": null,
            "grid_column": null,
            "grid_gap": null,
            "grid_row": null,
            "grid_template_areas": null,
            "grid_template_columns": null,
            "grid_template_rows": null,
            "height": null,
            "justify_content": null,
            "justify_items": null,
            "left": null,
            "margin": null,
            "max_height": null,
            "max_width": null,
            "min_height": null,
            "min_width": null,
            "object_fit": null,
            "object_position": null,
            "order": null,
            "overflow": null,
            "overflow_x": null,
            "overflow_y": null,
            "padding": null,
            "right": null,
            "top": null,
            "visibility": null,
            "width": null
          }
        },
        "4c7ddc1748ba44a59f2ab19fa5c8c788": {
          "model_module": "@jupyter-widgets/controls",
          "model_module_version": "1.5.0",
          "model_name": "DescriptionStyleModel",
          "state": {
            "_model_module": "@jupyter-widgets/controls",
            "_model_module_version": "1.5.0",
            "_model_name": "DescriptionStyleModel",
            "_view_count": null,
            "_view_module": "@jupyter-widgets/base",
            "_view_module_version": "1.2.0",
            "_view_name": "StyleView",
            "description_width": ""
          }
        },
        "519173a54aea44e79438b2fc2e32b65c": {
          "model_module": "@jupyter-widgets/controls",
          "model_module_version": "1.5.0",
          "model_name": "DescriptionStyleModel",
          "state": {
            "_model_module": "@jupyter-widgets/controls",
            "_model_module_version": "1.5.0",
            "_model_name": "DescriptionStyleModel",
            "_view_count": null,
            "_view_module": "@jupyter-widgets/base",
            "_view_module_version": "1.2.0",
            "_view_name": "StyleView",
            "description_width": ""
          }
        },
        "57c04da31a564c13b2c3b52f2cd02980": {
          "model_module": "@jupyter-widgets/controls",
          "model_module_version": "1.5.0",
          "model_name": "HTMLModel",
          "state": {
            "_dom_classes": [],
            "_model_module": "@jupyter-widgets/controls",
            "_model_module_version": "1.5.0",
            "_model_name": "HTMLModel",
            "_view_count": null,
            "_view_module": "@jupyter-widgets/controls",
            "_view_module_version": "1.5.0",
            "_view_name": "HTMLView",
            "description": "",
            "description_tooltip": null,
            "layout": "IPY_MODEL_86c9559968e6409b8092f0d44baf6353",
            "placeholder": "​",
            "style": "IPY_MODEL_bc9a5dfd748b4df184980ae4ca5fbbcf",
            "value": "tokenizer_config.json: 100%"
          }
        },
        "6339b261222349bf875146159f772bb7": {
          "model_module": "@jupyter-widgets/controls",
          "model_module_version": "1.5.0",
          "model_name": "FloatProgressModel",
          "state": {
            "_dom_classes": [],
            "_model_module": "@jupyter-widgets/controls",
            "_model_module_version": "1.5.0",
            "_model_name": "FloatProgressModel",
            "_view_count": null,
            "_view_module": "@jupyter-widgets/controls",
            "_view_module_version": "1.5.0",
            "_view_name": "ProgressView",
            "bar_style": "success",
            "description": "",
            "description_tooltip": null,
            "layout": "IPY_MODEL_65b5f1f2be3c46f191ea98dfe2496a6c",
            "max": 440449768,
            "min": 0,
            "orientation": "horizontal",
            "style": "IPY_MODEL_24d425541233495c8ae64fc6aefc48ea",
            "value": 440449768
          }
        },
        "634ef48e533f4d8e8c4c584555c57457": {
          "model_module": "@jupyter-widgets/controls",
          "model_module_version": "1.5.0",
          "model_name": "ProgressStyleModel",
          "state": {
            "_model_module": "@jupyter-widgets/controls",
            "_model_module_version": "1.5.0",
            "_model_name": "ProgressStyleModel",
            "_view_count": null,
            "_view_module": "@jupyter-widgets/base",
            "_view_module_version": "1.2.0",
            "_view_name": "StyleView",
            "bar_color": null,
            "description_width": ""
          }
        },
        "65b5f1f2be3c46f191ea98dfe2496a6c": {
          "model_module": "@jupyter-widgets/base",
          "model_module_version": "1.2.0",
          "model_name": "LayoutModel",
          "state": {
            "_model_module": "@jupyter-widgets/base",
            "_model_module_version": "1.2.0",
            "_model_name": "LayoutModel",
            "_view_count": null,
            "_view_module": "@jupyter-widgets/base",
            "_view_module_version": "1.2.0",
            "_view_name": "LayoutView",
            "align_content": null,
            "align_items": null,
            "align_self": null,
            "border": null,
            "bottom": null,
            "display": null,
            "flex": null,
            "flex_flow": null,
            "grid_area": null,
            "grid_auto_columns": null,
            "grid_auto_flow": null,
            "grid_auto_rows": null,
            "grid_column": null,
            "grid_gap": null,
            "grid_row": null,
            "grid_template_areas": null,
            "grid_template_columns": null,
            "grid_template_rows": null,
            "height": null,
            "justify_content": null,
            "justify_items": null,
            "left": null,
            "margin": null,
            "max_height": null,
            "max_width": null,
            "min_height": null,
            "min_width": null,
            "object_fit": null,
            "object_position": null,
            "order": null,
            "overflow": null,
            "overflow_x": null,
            "overflow_y": null,
            "padding": null,
            "right": null,
            "top": null,
            "visibility": null,
            "width": null
          }
        },
        "664ce4c34305414bbe24895a91e1c31e": {
          "model_module": "@jupyter-widgets/controls",
          "model_module_version": "1.5.0",
          "model_name": "HTMLModel",
          "state": {
            "_dom_classes": [],
            "_model_module": "@jupyter-widgets/controls",
            "_model_module_version": "1.5.0",
            "_model_name": "HTMLModel",
            "_view_count": null,
            "_view_module": "@jupyter-widgets/controls",
            "_view_module_version": "1.5.0",
            "_view_name": "HTMLView",
            "description": "",
            "description_tooltip": null,
            "layout": "IPY_MODEL_0e37c6166d46455c8908c92a4969da59",
            "placeholder": "​",
            "style": "IPY_MODEL_41a15db8b455416c98a28f4c692c135a",
            "value": " 466k/466k [00:00&lt;00:00, 21.5MB/s]"
          }
        },
        "6978137358324b0da8bf08938b6ce95a": {
          "model_module": "@jupyter-widgets/controls",
          "model_module_version": "1.5.0",
          "model_name": "HTMLModel",
          "state": {
            "_dom_classes": [],
            "_model_module": "@jupyter-widgets/controls",
            "_model_module_version": "1.5.0",
            "_model_name": "HTMLModel",
            "_view_count": null,
            "_view_module": "@jupyter-widgets/controls",
            "_view_module_version": "1.5.0",
            "_view_name": "HTMLView",
            "description": "",
            "description_tooltip": null,
            "layout": "IPY_MODEL_e1390d3945094393bba00962fe5080ea",
            "placeholder": "​",
            "style": "IPY_MODEL_a33dc0f6b9914a968b634959c7bf7f6e",
            "value": "config.json: 100%"
          }
        },
        "69bef58165774bbdbb18bb008290a64f": {
          "model_module": "@jupyter-widgets/controls",
          "model_module_version": "1.5.0",
          "model_name": "HTMLModel",
          "state": {
            "_dom_classes": [],
            "_model_module": "@jupyter-widgets/controls",
            "_model_module_version": "1.5.0",
            "_model_name": "HTMLModel",
            "_view_count": null,
            "_view_module": "@jupyter-widgets/controls",
            "_view_module_version": "1.5.0",
            "_view_name": "HTMLView",
            "description": "",
            "description_tooltip": null,
            "layout": "IPY_MODEL_29ad0ec47e8f4e70b199b33e3c234d09",
            "placeholder": "​",
            "style": "IPY_MODEL_e97e868ac5c240c0ae7eeb9daceeb709",
            "value": " 10000/10000 [00:10&lt;00:00, 975.79 examples/s]"
          }
        },
        "6a426ff17e864f55b392c3912c0ee623": {
          "model_module": "@jupyter-widgets/controls",
          "model_module_version": "1.5.0",
          "model_name": "ProgressStyleModel",
          "state": {
            "_model_module": "@jupyter-widgets/controls",
            "_model_module_version": "1.5.0",
            "_model_name": "ProgressStyleModel",
            "_view_count": null,
            "_view_module": "@jupyter-widgets/base",
            "_view_module_version": "1.2.0",
            "_view_name": "StyleView",
            "bar_color": null,
            "description_width": ""
          }
        },
        "6cc12dfa0d0c4f8cbd3cb3b319b47380": {
          "model_module": "@jupyter-widgets/controls",
          "model_module_version": "1.5.0",
          "model_name": "HTMLModel",
          "state": {
            "_dom_classes": [],
            "_model_module": "@jupyter-widgets/controls",
            "_model_module_version": "1.5.0",
            "_model_name": "HTMLModel",
            "_view_count": null,
            "_view_module": "@jupyter-widgets/controls",
            "_view_module_version": "1.5.0",
            "_view_name": "HTMLView",
            "description": "",
            "description_tooltip": null,
            "layout": "IPY_MODEL_b5a393baad8d4f578e4fff74f41e4702",
            "placeholder": "​",
            "style": "IPY_MODEL_4c7ddc1748ba44a59f2ab19fa5c8c788",
            "value": " 232k/232k [00:00&lt;00:00, 4.84MB/s]"
          }
        },
        "705d6ca91ba347b18d60d00bd491af76": {
          "model_module": "@jupyter-widgets/controls",
          "model_module_version": "1.5.0",
          "model_name": "HBoxModel",
          "state": {
            "_dom_classes": [],
            "_model_module": "@jupyter-widgets/controls",
            "_model_module_version": "1.5.0",
            "_model_name": "HBoxModel",
            "_view_count": null,
            "_view_module": "@jupyter-widgets/controls",
            "_view_module_version": "1.5.0",
            "_view_name": "HBoxView",
            "box_style": "",
            "children": [
              "IPY_MODEL_57c04da31a564c13b2c3b52f2cd02980",
              "IPY_MODEL_fe8c4c42052943a38191ed70606b69d5",
              "IPY_MODEL_9fc668d593e647a682258f82aec59c30"
            ],
            "layout": "IPY_MODEL_1a4fb12b96864d679e3ab133b9a594af"
          }
        },
        "77cf9aadfe4645dab0956fc624afebe9": {
          "model_module": "@jupyter-widgets/controls",
          "model_module_version": "1.5.0",
          "model_name": "HTMLModel",
          "state": {
            "_dom_classes": [],
            "_model_module": "@jupyter-widgets/controls",
            "_model_module_version": "1.5.0",
            "_model_name": "HTMLModel",
            "_view_count": null,
            "_view_module": "@jupyter-widgets/controls",
            "_view_module_version": "1.5.0",
            "_view_name": "HTMLView",
            "description": "",
            "description_tooltip": null,
            "layout": "IPY_MODEL_d60bdca4a5fc4645a8109da86c6b4f74",
            "placeholder": "​",
            "style": "IPY_MODEL_a95c6a297644434880f9341baae496a2",
            "value": "Map: 100%"
          }
        },
        "7b5686ec7594461bb34cca19ad0f3e0f": {
          "model_module": "@jupyter-widgets/controls",
          "model_module_version": "1.5.0",
          "model_name": "HTMLModel",
          "state": {
            "_dom_classes": [],
            "_model_module": "@jupyter-widgets/controls",
            "_model_module_version": "1.5.0",
            "_model_name": "HTMLModel",
            "_view_count": null,
            "_view_module": "@jupyter-widgets/controls",
            "_view_module_version": "1.5.0",
            "_view_name": "HTMLView",
            "description": "",
            "description_tooltip": null,
            "layout": "IPY_MODEL_4942a73e662f459eb584b39bcfc5abd1",
            "placeholder": "​",
            "style": "IPY_MODEL_bdd3da908d474eb08924f0a666f45a03",
            "value": "model.safetensors: 100%"
          }
        },
        "7d33cc0363cf4e5a8a5f7acb159ea19e": {
          "model_module": "@jupyter-widgets/controls",
          "model_module_version": "1.5.0",
          "model_name": "FloatProgressModel",
          "state": {
            "_dom_classes": [],
            "_model_module": "@jupyter-widgets/controls",
            "_model_module_version": "1.5.0",
            "_model_name": "FloatProgressModel",
            "_view_count": null,
            "_view_module": "@jupyter-widgets/controls",
            "_view_module_version": "1.5.0",
            "_view_name": "ProgressView",
            "bar_style": "success",
            "description": "",
            "description_tooltip": null,
            "layout": "IPY_MODEL_186c71ca59c24df7961b636ca53ed336",
            "max": 466062,
            "min": 0,
            "orientation": "horizontal",
            "style": "IPY_MODEL_6a426ff17e864f55b392c3912c0ee623",
            "value": 466062
          }
        },
        "82da4dc9cf6743c8af49e7f62f72ad4c": {
          "model_module": "@jupyter-widgets/base",
          "model_module_version": "1.2.0",
          "model_name": "LayoutModel",
          "state": {
            "_model_module": "@jupyter-widgets/base",
            "_model_module_version": "1.2.0",
            "_model_name": "LayoutModel",
            "_view_count": null,
            "_view_module": "@jupyter-widgets/base",
            "_view_module_version": "1.2.0",
            "_view_name": "LayoutView",
            "align_content": null,
            "align_items": null,
            "align_self": null,
            "border": null,
            "bottom": null,
            "display": null,
            "flex": null,
            "flex_flow": null,
            "grid_area": null,
            "grid_auto_columns": null,
            "grid_auto_flow": null,
            "grid_auto_rows": null,
            "grid_column": null,
            "grid_gap": null,
            "grid_row": null,
            "grid_template_areas": null,
            "grid_template_columns": null,
            "grid_template_rows": null,
            "height": null,
            "justify_content": null,
            "justify_items": null,
            "left": null,
            "margin": null,
            "max_height": null,
            "max_width": null,
            "min_height": null,
            "min_width": null,
            "object_fit": null,
            "object_position": null,
            "order": null,
            "overflow": null,
            "overflow_x": null,
            "overflow_y": null,
            "padding": null,
            "right": null,
            "top": null,
            "visibility": null,
            "width": null
          }
        },
        "86c9559968e6409b8092f0d44baf6353": {
          "model_module": "@jupyter-widgets/base",
          "model_module_version": "1.2.0",
          "model_name": "LayoutModel",
          "state": {
            "_model_module": "@jupyter-widgets/base",
            "_model_module_version": "1.2.0",
            "_model_name": "LayoutModel",
            "_view_count": null,
            "_view_module": "@jupyter-widgets/base",
            "_view_module_version": "1.2.0",
            "_view_name": "LayoutView",
            "align_content": null,
            "align_items": null,
            "align_self": null,
            "border": null,
            "bottom": null,
            "display": null,
            "flex": null,
            "flex_flow": null,
            "grid_area": null,
            "grid_auto_columns": null,
            "grid_auto_flow": null,
            "grid_auto_rows": null,
            "grid_column": null,
            "grid_gap": null,
            "grid_row": null,
            "grid_template_areas": null,
            "grid_template_columns": null,
            "grid_template_rows": null,
            "height": null,
            "justify_content": null,
            "justify_items": null,
            "left": null,
            "margin": null,
            "max_height": null,
            "max_width": null,
            "min_height": null,
            "min_width": null,
            "object_fit": null,
            "object_position": null,
            "order": null,
            "overflow": null,
            "overflow_x": null,
            "overflow_y": null,
            "padding": null,
            "right": null,
            "top": null,
            "visibility": null,
            "width": null
          }
        },
        "8e7e1af9ca2146a788289056204304e6": {
          "model_module": "@jupyter-widgets/controls",
          "model_module_version": "1.5.0",
          "model_name": "HBoxModel",
          "state": {
            "_dom_classes": [],
            "_model_module": "@jupyter-widgets/controls",
            "_model_module_version": "1.5.0",
            "_model_name": "HBoxModel",
            "_view_count": null,
            "_view_module": "@jupyter-widgets/controls",
            "_view_module_version": "1.5.0",
            "_view_name": "HBoxView",
            "box_style": "",
            "children": [
              "IPY_MODEL_6978137358324b0da8bf08938b6ce95a",
              "IPY_MODEL_ccb68490e1d1404a9191b210af886863",
              "IPY_MODEL_cb76ccb389554c3fb8a525c13183822c"
            ],
            "layout": "IPY_MODEL_afc5d86cb0984e08a258c83c5e1a762f"
          }
        },
        "8f0e70762d284856bc04f91dc5ecb6cb": {
          "model_module": "@jupyter-widgets/base",
          "model_module_version": "1.2.0",
          "model_name": "LayoutModel",
          "state": {
            "_model_module": "@jupyter-widgets/base",
            "_model_module_version": "1.2.0",
            "_model_name": "LayoutModel",
            "_view_count": null,
            "_view_module": "@jupyter-widgets/base",
            "_view_module_version": "1.2.0",
            "_view_name": "LayoutView",
            "align_content": null,
            "align_items": null,
            "align_self": null,
            "border": null,
            "bottom": null,
            "display": null,
            "flex": null,
            "flex_flow": null,
            "grid_area": null,
            "grid_auto_columns": null,
            "grid_auto_flow": null,
            "grid_auto_rows": null,
            "grid_column": null,
            "grid_gap": null,
            "grid_row": null,
            "grid_template_areas": null,
            "grid_template_columns": null,
            "grid_template_rows": null,
            "height": null,
            "justify_content": null,
            "justify_items": null,
            "left": null,
            "margin": null,
            "max_height": null,
            "max_width": null,
            "min_height": null,
            "min_width": null,
            "object_fit": null,
            "object_position": null,
            "order": null,
            "overflow": null,
            "overflow_x": null,
            "overflow_y": null,
            "padding": null,
            "right": null,
            "top": null,
            "visibility": null,
            "width": null
          }
        },
        "8f803e4e5ccd486381d13ac7065c4886": {
          "model_module": "@jupyter-widgets/controls",
          "model_module_version": "1.5.0",
          "model_name": "ProgressStyleModel",
          "state": {
            "_model_module": "@jupyter-widgets/controls",
            "_model_module_version": "1.5.0",
            "_model_name": "ProgressStyleModel",
            "_view_count": null,
            "_view_module": "@jupyter-widgets/base",
            "_view_module_version": "1.2.0",
            "_view_name": "StyleView",
            "bar_color": null,
            "description_width": ""
          }
        },
        "9a371b84267042fba482f66783e694c8": {
          "model_module": "@jupyter-widgets/controls",
          "model_module_version": "1.5.0",
          "model_name": "HTMLModel",
          "state": {
            "_dom_classes": [],
            "_model_module": "@jupyter-widgets/controls",
            "_model_module_version": "1.5.0",
            "_model_name": "HTMLModel",
            "_view_count": null,
            "_view_module": "@jupyter-widgets/controls",
            "_view_module_version": "1.5.0",
            "_view_name": "HTMLView",
            "description": "",
            "description_tooltip": null,
            "layout": "IPY_MODEL_464413a0a7c14e69b1cb961fad5035fc",
            "placeholder": "​",
            "style": "IPY_MODEL_519173a54aea44e79438b2fc2e32b65c",
            "value": " 2000/2000 [00:02&lt;00:00, 990.70 examples/s]"
          }
        },
        "9fc668d593e647a682258f82aec59c30": {
          "model_module": "@jupyter-widgets/controls",
          "model_module_version": "1.5.0",
          "model_name": "HTMLModel",
          "state": {
            "_dom_classes": [],
            "_model_module": "@jupyter-widgets/controls",
            "_model_module_version": "1.5.0",
            "_model_name": "HTMLModel",
            "_view_count": null,
            "_view_module": "@jupyter-widgets/controls",
            "_view_module_version": "1.5.0",
            "_view_name": "HTMLView",
            "description": "",
            "description_tooltip": null,
            "layout": "IPY_MODEL_a8ccafefbbf34e91bed73650af258753",
            "placeholder": "​",
            "style": "IPY_MODEL_b1c7c0ad9c764342b7ca1981d1eaa3b3",
            "value": " 48.0/48.0 [00:00&lt;00:00, 5.45kB/s]"
          }
        },
        "a33dc0f6b9914a968b634959c7bf7f6e": {
          "model_module": "@jupyter-widgets/controls",
          "model_module_version": "1.5.0",
          "model_name": "DescriptionStyleModel",
          "state": {
            "_model_module": "@jupyter-widgets/controls",
            "_model_module_version": "1.5.0",
            "_model_name": "DescriptionStyleModel",
            "_view_count": null,
            "_view_module": "@jupyter-widgets/base",
            "_view_module_version": "1.2.0",
            "_view_name": "StyleView",
            "description_width": ""
          }
        },
        "a8ccafefbbf34e91bed73650af258753": {
          "model_module": "@jupyter-widgets/base",
          "model_module_version": "1.2.0",
          "model_name": "LayoutModel",
          "state": {
            "_model_module": "@jupyter-widgets/base",
            "_model_module_version": "1.2.0",
            "_model_name": "LayoutModel",
            "_view_count": null,
            "_view_module": "@jupyter-widgets/base",
            "_view_module_version": "1.2.0",
            "_view_name": "LayoutView",
            "align_content": null,
            "align_items": null,
            "align_self": null,
            "border": null,
            "bottom": null,
            "display": null,
            "flex": null,
            "flex_flow": null,
            "grid_area": null,
            "grid_auto_columns": null,
            "grid_auto_flow": null,
            "grid_auto_rows": null,
            "grid_column": null,
            "grid_gap": null,
            "grid_row": null,
            "grid_template_areas": null,
            "grid_template_columns": null,
            "grid_template_rows": null,
            "height": null,
            "justify_content": null,
            "justify_items": null,
            "left": null,
            "margin": null,
            "max_height": null,
            "max_width": null,
            "min_height": null,
            "min_width": null,
            "object_fit": null,
            "object_position": null,
            "order": null,
            "overflow": null,
            "overflow_x": null,
            "overflow_y": null,
            "padding": null,
            "right": null,
            "top": null,
            "visibility": null,
            "width": null
          }
        },
        "a95c6a297644434880f9341baae496a2": {
          "model_module": "@jupyter-widgets/controls",
          "model_module_version": "1.5.0",
          "model_name": "DescriptionStyleModel",
          "state": {
            "_model_module": "@jupyter-widgets/controls",
            "_model_module_version": "1.5.0",
            "_model_name": "DescriptionStyleModel",
            "_view_count": null,
            "_view_module": "@jupyter-widgets/base",
            "_view_module_version": "1.2.0",
            "_view_name": "StyleView",
            "description_width": ""
          }
        },
        "af12c471955e4faab2460ee6d6d32051": {
          "model_module": "@jupyter-widgets/controls",
          "model_module_version": "1.5.0",
          "model_name": "ProgressStyleModel",
          "state": {
            "_model_module": "@jupyter-widgets/controls",
            "_model_module_version": "1.5.0",
            "_model_name": "ProgressStyleModel",
            "_view_count": null,
            "_view_module": "@jupyter-widgets/base",
            "_view_module_version": "1.2.0",
            "_view_name": "StyleView",
            "bar_color": null,
            "description_width": ""
          }
        },
        "afc5d86cb0984e08a258c83c5e1a762f": {
          "model_module": "@jupyter-widgets/base",
          "model_module_version": "1.2.0",
          "model_name": "LayoutModel",
          "state": {
            "_model_module": "@jupyter-widgets/base",
            "_model_module_version": "1.2.0",
            "_model_name": "LayoutModel",
            "_view_count": null,
            "_view_module": "@jupyter-widgets/base",
            "_view_module_version": "1.2.0",
            "_view_name": "LayoutView",
            "align_content": null,
            "align_items": null,
            "align_self": null,
            "border": null,
            "bottom": null,
            "display": null,
            "flex": null,
            "flex_flow": null,
            "grid_area": null,
            "grid_auto_columns": null,
            "grid_auto_flow": null,
            "grid_auto_rows": null,
            "grid_column": null,
            "grid_gap": null,
            "grid_row": null,
            "grid_template_areas": null,
            "grid_template_columns": null,
            "grid_template_rows": null,
            "height": null,
            "justify_content": null,
            "justify_items": null,
            "left": null,
            "margin": null,
            "max_height": null,
            "max_width": null,
            "min_height": null,
            "min_width": null,
            "object_fit": null,
            "object_position": null,
            "order": null,
            "overflow": null,
            "overflow_x": null,
            "overflow_y": null,
            "padding": null,
            "right": null,
            "top": null,
            "visibility": null,
            "width": null
          }
        },
        "b1c7c0ad9c764342b7ca1981d1eaa3b3": {
          "model_module": "@jupyter-widgets/controls",
          "model_module_version": "1.5.0",
          "model_name": "DescriptionStyleModel",
          "state": {
            "_model_module": "@jupyter-widgets/controls",
            "_model_module_version": "1.5.0",
            "_model_name": "DescriptionStyleModel",
            "_view_count": null,
            "_view_module": "@jupyter-widgets/base",
            "_view_module_version": "1.2.0",
            "_view_name": "StyleView",
            "description_width": ""
          }
        },
        "b2aeedf6ea5e458f8f31af6616c7ae4e": {
          "model_module": "@jupyter-widgets/base",
          "model_module_version": "1.2.0",
          "model_name": "LayoutModel",
          "state": {
            "_model_module": "@jupyter-widgets/base",
            "_model_module_version": "1.2.0",
            "_model_name": "LayoutModel",
            "_view_count": null,
            "_view_module": "@jupyter-widgets/base",
            "_view_module_version": "1.2.0",
            "_view_name": "LayoutView",
            "align_content": null,
            "align_items": null,
            "align_self": null,
            "border": null,
            "bottom": null,
            "display": null,
            "flex": null,
            "flex_flow": null,
            "grid_area": null,
            "grid_auto_columns": null,
            "grid_auto_flow": null,
            "grid_auto_rows": null,
            "grid_column": null,
            "grid_gap": null,
            "grid_row": null,
            "grid_template_areas": null,
            "grid_template_columns": null,
            "grid_template_rows": null,
            "height": null,
            "justify_content": null,
            "justify_items": null,
            "left": null,
            "margin": null,
            "max_height": null,
            "max_width": null,
            "min_height": null,
            "min_width": null,
            "object_fit": null,
            "object_position": null,
            "order": null,
            "overflow": null,
            "overflow_x": null,
            "overflow_y": null,
            "padding": null,
            "right": null,
            "top": null,
            "visibility": null,
            "width": null
          }
        },
        "b2eecbc3ace843feb770085350ca7e86": {
          "model_module": "@jupyter-widgets/controls",
          "model_module_version": "1.5.0",
          "model_name": "FloatProgressModel",
          "state": {
            "_dom_classes": [],
            "_model_module": "@jupyter-widgets/controls",
            "_model_module_version": "1.5.0",
            "_model_name": "FloatProgressModel",
            "_view_count": null,
            "_view_module": "@jupyter-widgets/controls",
            "_view_module_version": "1.5.0",
            "_view_name": "ProgressView",
            "bar_style": "success",
            "description": "",
            "description_tooltip": null,
            "layout": "IPY_MODEL_bb743736b1bd478ba69a86843a079859",
            "max": 2000,
            "min": 0,
            "orientation": "horizontal",
            "style": "IPY_MODEL_af12c471955e4faab2460ee6d6d32051",
            "value": 2000
          }
        },
        "b5a393baad8d4f578e4fff74f41e4702": {
          "model_module": "@jupyter-widgets/base",
          "model_module_version": "1.2.0",
          "model_name": "LayoutModel",
          "state": {
            "_model_module": "@jupyter-widgets/base",
            "_model_module_version": "1.2.0",
            "_model_name": "LayoutModel",
            "_view_count": null,
            "_view_module": "@jupyter-widgets/base",
            "_view_module_version": "1.2.0",
            "_view_name": "LayoutView",
            "align_content": null,
            "align_items": null,
            "align_self": null,
            "border": null,
            "bottom": null,
            "display": null,
            "flex": null,
            "flex_flow": null,
            "grid_area": null,
            "grid_auto_columns": null,
            "grid_auto_flow": null,
            "grid_auto_rows": null,
            "grid_column": null,
            "grid_gap": null,
            "grid_row": null,
            "grid_template_areas": null,
            "grid_template_columns": null,
            "grid_template_rows": null,
            "height": null,
            "justify_content": null,
            "justify_items": null,
            "left": null,
            "margin": null,
            "max_height": null,
            "max_width": null,
            "min_height": null,
            "min_width": null,
            "object_fit": null,
            "object_position": null,
            "order": null,
            "overflow": null,
            "overflow_x": null,
            "overflow_y": null,
            "padding": null,
            "right": null,
            "top": null,
            "visibility": null,
            "width": null
          }
        },
        "b96a9979ec004bdba2852343d6033c0d": {
          "model_module": "@jupyter-widgets/base",
          "model_module_version": "1.2.0",
          "model_name": "LayoutModel",
          "state": {
            "_model_module": "@jupyter-widgets/base",
            "_model_module_version": "1.2.0",
            "_model_name": "LayoutModel",
            "_view_count": null,
            "_view_module": "@jupyter-widgets/base",
            "_view_module_version": "1.2.0",
            "_view_name": "LayoutView",
            "align_content": null,
            "align_items": null,
            "align_self": null,
            "border": null,
            "bottom": null,
            "display": null,
            "flex": null,
            "flex_flow": null,
            "grid_area": null,
            "grid_auto_columns": null,
            "grid_auto_flow": null,
            "grid_auto_rows": null,
            "grid_column": null,
            "grid_gap": null,
            "grid_row": null,
            "grid_template_areas": null,
            "grid_template_columns": null,
            "grid_template_rows": null,
            "height": null,
            "justify_content": null,
            "justify_items": null,
            "left": null,
            "margin": null,
            "max_height": null,
            "max_width": null,
            "min_height": null,
            "min_width": null,
            "object_fit": null,
            "object_position": null,
            "order": null,
            "overflow": null,
            "overflow_x": null,
            "overflow_y": null,
            "padding": null,
            "right": null,
            "top": null,
            "visibility": null,
            "width": null
          }
        },
        "bb743736b1bd478ba69a86843a079859": {
          "model_module": "@jupyter-widgets/base",
          "model_module_version": "1.2.0",
          "model_name": "LayoutModel",
          "state": {
            "_model_module": "@jupyter-widgets/base",
            "_model_module_version": "1.2.0",
            "_model_name": "LayoutModel",
            "_view_count": null,
            "_view_module": "@jupyter-widgets/base",
            "_view_module_version": "1.2.0",
            "_view_name": "LayoutView",
            "align_content": null,
            "align_items": null,
            "align_self": null,
            "border": null,
            "bottom": null,
            "display": null,
            "flex": null,
            "flex_flow": null,
            "grid_area": null,
            "grid_auto_columns": null,
            "grid_auto_flow": null,
            "grid_auto_rows": null,
            "grid_column": null,
            "grid_gap": null,
            "grid_row": null,
            "grid_template_areas": null,
            "grid_template_columns": null,
            "grid_template_rows": null,
            "height": null,
            "justify_content": null,
            "justify_items": null,
            "left": null,
            "margin": null,
            "max_height": null,
            "max_width": null,
            "min_height": null,
            "min_width": null,
            "object_fit": null,
            "object_position": null,
            "order": null,
            "overflow": null,
            "overflow_x": null,
            "overflow_y": null,
            "padding": null,
            "right": null,
            "top": null,
            "visibility": null,
            "width": null
          }
        },
        "bc9a5dfd748b4df184980ae4ca5fbbcf": {
          "model_module": "@jupyter-widgets/controls",
          "model_module_version": "1.5.0",
          "model_name": "DescriptionStyleModel",
          "state": {
            "_model_module": "@jupyter-widgets/controls",
            "_model_module_version": "1.5.0",
            "_model_name": "DescriptionStyleModel",
            "_view_count": null,
            "_view_module": "@jupyter-widgets/base",
            "_view_module_version": "1.2.0",
            "_view_name": "StyleView",
            "description_width": ""
          }
        },
        "bdd3da908d474eb08924f0a666f45a03": {
          "model_module": "@jupyter-widgets/controls",
          "model_module_version": "1.5.0",
          "model_name": "DescriptionStyleModel",
          "state": {
            "_model_module": "@jupyter-widgets/controls",
            "_model_module_version": "1.5.0",
            "_model_name": "DescriptionStyleModel",
            "_view_count": null,
            "_view_module": "@jupyter-widgets/base",
            "_view_module_version": "1.2.0",
            "_view_name": "StyleView",
            "description_width": ""
          }
        },
        "c0017e47c2a941318b612ce71e602a0f": {
          "model_module": "@jupyter-widgets/base",
          "model_module_version": "1.2.0",
          "model_name": "LayoutModel",
          "state": {
            "_model_module": "@jupyter-widgets/base",
            "_model_module_version": "1.2.0",
            "_model_name": "LayoutModel",
            "_view_count": null,
            "_view_module": "@jupyter-widgets/base",
            "_view_module_version": "1.2.0",
            "_view_name": "LayoutView",
            "align_content": null,
            "align_items": null,
            "align_self": null,
            "border": null,
            "bottom": null,
            "display": null,
            "flex": null,
            "flex_flow": null,
            "grid_area": null,
            "grid_auto_columns": null,
            "grid_auto_flow": null,
            "grid_auto_rows": null,
            "grid_column": null,
            "grid_gap": null,
            "grid_row": null,
            "grid_template_areas": null,
            "grid_template_columns": null,
            "grid_template_rows": null,
            "height": null,
            "justify_content": null,
            "justify_items": null,
            "left": null,
            "margin": null,
            "max_height": null,
            "max_width": null,
            "min_height": null,
            "min_width": null,
            "object_fit": null,
            "object_position": null,
            "order": null,
            "overflow": null,
            "overflow_x": null,
            "overflow_y": null,
            "padding": null,
            "right": null,
            "top": null,
            "visibility": null,
            "width": null
          }
        },
        "c1bc188974b040a9b7ab3fdb3a50df06": {
          "model_module": "@jupyter-widgets/controls",
          "model_module_version": "1.5.0",
          "model_name": "ProgressStyleModel",
          "state": {
            "_model_module": "@jupyter-widgets/controls",
            "_model_module_version": "1.5.0",
            "_model_name": "ProgressStyleModel",
            "_view_count": null,
            "_view_module": "@jupyter-widgets/base",
            "_view_module_version": "1.2.0",
            "_view_name": "StyleView",
            "bar_color": null,
            "description_width": ""
          }
        },
        "caa05c92e2a74228acb46799f17a22eb": {
          "model_module": "@jupyter-widgets/controls",
          "model_module_version": "1.5.0",
          "model_name": "HBoxModel",
          "state": {
            "_dom_classes": [],
            "_model_module": "@jupyter-widgets/controls",
            "_model_module_version": "1.5.0",
            "_model_name": "HBoxModel",
            "_view_count": null,
            "_view_module": "@jupyter-widgets/controls",
            "_view_module_version": "1.5.0",
            "_view_name": "HBoxView",
            "box_style": "",
            "children": [
              "IPY_MODEL_ffcdc184943e487c974770bdd2a044e7",
              "IPY_MODEL_7d33cc0363cf4e5a8a5f7acb159ea19e",
              "IPY_MODEL_664ce4c34305414bbe24895a91e1c31e"
            ],
            "layout": "IPY_MODEL_e8333caafe1246ed88247981463468f8"
          }
        },
        "cb76ccb389554c3fb8a525c13183822c": {
          "model_module": "@jupyter-widgets/controls",
          "model_module_version": "1.5.0",
          "model_name": "HTMLModel",
          "state": {
            "_dom_classes": [],
            "_model_module": "@jupyter-widgets/controls",
            "_model_module_version": "1.5.0",
            "_model_name": "HTMLModel",
            "_view_count": null,
            "_view_module": "@jupyter-widgets/controls",
            "_view_module_version": "1.5.0",
            "_view_name": "HTMLView",
            "description": "",
            "description_tooltip": null,
            "layout": "IPY_MODEL_0c8abbec38ae4801aaf681134f765039",
            "placeholder": "​",
            "style": "IPY_MODEL_362c9f5276cc48fcaf7075f2472e89d5",
            "value": " 570/570 [00:00&lt;00:00, 71.7kB/s]"
          }
        },
        "ccb68490e1d1404a9191b210af886863": {
          "model_module": "@jupyter-widgets/controls",
          "model_module_version": "1.5.0",
          "model_name": "FloatProgressModel",
          "state": {
            "_dom_classes": [],
            "_model_module": "@jupyter-widgets/controls",
            "_model_module_version": "1.5.0",
            "_model_name": "FloatProgressModel",
            "_view_count": null,
            "_view_module": "@jupyter-widgets/controls",
            "_view_module_version": "1.5.0",
            "_view_name": "ProgressView",
            "bar_style": "success",
            "description": "",
            "description_tooltip": null,
            "layout": "IPY_MODEL_0c8a54e106334886a5cbecf857ddb01d",
            "max": 570,
            "min": 0,
            "orientation": "horizontal",
            "style": "IPY_MODEL_8f803e4e5ccd486381d13ac7065c4886",
            "value": 570
          }
        },
        "d1cd4482f52c494b8ec0639b0e471e93": {
          "model_module": "@jupyter-widgets/controls",
          "model_module_version": "1.5.0",
          "model_name": "HBoxModel",
          "state": {
            "_dom_classes": [],
            "_model_module": "@jupyter-widgets/controls",
            "_model_module_version": "1.5.0",
            "_model_name": "HBoxModel",
            "_view_count": null,
            "_view_module": "@jupyter-widgets/controls",
            "_view_module_version": "1.5.0",
            "_view_name": "HBoxView",
            "box_style": "",
            "children": [
              "IPY_MODEL_7b5686ec7594461bb34cca19ad0f3e0f",
              "IPY_MODEL_6339b261222349bf875146159f772bb7",
              "IPY_MODEL_1b1c0641edf34867af7d703009f43cbb"
            ],
            "layout": "IPY_MODEL_8f0e70762d284856bc04f91dc5ecb6cb"
          }
        },
        "d60bdca4a5fc4645a8109da86c6b4f74": {
          "model_module": "@jupyter-widgets/base",
          "model_module_version": "1.2.0",
          "model_name": "LayoutModel",
          "state": {
            "_model_module": "@jupyter-widgets/base",
            "_model_module_version": "1.2.0",
            "_model_name": "LayoutModel",
            "_view_count": null,
            "_view_module": "@jupyter-widgets/base",
            "_view_module_version": "1.2.0",
            "_view_name": "LayoutView",
            "align_content": null,
            "align_items": null,
            "align_self": null,
            "border": null,
            "bottom": null,
            "display": null,
            "flex": null,
            "flex_flow": null,
            "grid_area": null,
            "grid_auto_columns": null,
            "grid_auto_flow": null,
            "grid_auto_rows": null,
            "grid_column": null,
            "grid_gap": null,
            "grid_row": null,
            "grid_template_areas": null,
            "grid_template_columns": null,
            "grid_template_rows": null,
            "height": null,
            "justify_content": null,
            "justify_items": null,
            "left": null,
            "margin": null,
            "max_height": null,
            "max_width": null,
            "min_height": null,
            "min_width": null,
            "object_fit": null,
            "object_position": null,
            "order": null,
            "overflow": null,
            "overflow_x": null,
            "overflow_y": null,
            "padding": null,
            "right": null,
            "top": null,
            "visibility": null,
            "width": null
          }
        },
        "e1390d3945094393bba00962fe5080ea": {
          "model_module": "@jupyter-widgets/base",
          "model_module_version": "1.2.0",
          "model_name": "LayoutModel",
          "state": {
            "_model_module": "@jupyter-widgets/base",
            "_model_module_version": "1.2.0",
            "_model_name": "LayoutModel",
            "_view_count": null,
            "_view_module": "@jupyter-widgets/base",
            "_view_module_version": "1.2.0",
            "_view_name": "LayoutView",
            "align_content": null,
            "align_items": null,
            "align_self": null,
            "border": null,
            "bottom": null,
            "display": null,
            "flex": null,
            "flex_flow": null,
            "grid_area": null,
            "grid_auto_columns": null,
            "grid_auto_flow": null,
            "grid_auto_rows": null,
            "grid_column": null,
            "grid_gap": null,
            "grid_row": null,
            "grid_template_areas": null,
            "grid_template_columns": null,
            "grid_template_rows": null,
            "height": null,
            "justify_content": null,
            "justify_items": null,
            "left": null,
            "margin": null,
            "max_height": null,
            "max_width": null,
            "min_height": null,
            "min_width": null,
            "object_fit": null,
            "object_position": null,
            "order": null,
            "overflow": null,
            "overflow_x": null,
            "overflow_y": null,
            "padding": null,
            "right": null,
            "top": null,
            "visibility": null,
            "width": null
          }
        },
        "e8333caafe1246ed88247981463468f8": {
          "model_module": "@jupyter-widgets/base",
          "model_module_version": "1.2.0",
          "model_name": "LayoutModel",
          "state": {
            "_model_module": "@jupyter-widgets/base",
            "_model_module_version": "1.2.0",
            "_model_name": "LayoutModel",
            "_view_count": null,
            "_view_module": "@jupyter-widgets/base",
            "_view_module_version": "1.2.0",
            "_view_name": "LayoutView",
            "align_content": null,
            "align_items": null,
            "align_self": null,
            "border": null,
            "bottom": null,
            "display": null,
            "flex": null,
            "flex_flow": null,
            "grid_area": null,
            "grid_auto_columns": null,
            "grid_auto_flow": null,
            "grid_auto_rows": null,
            "grid_column": null,
            "grid_gap": null,
            "grid_row": null,
            "grid_template_areas": null,
            "grid_template_columns": null,
            "grid_template_rows": null,
            "height": null,
            "justify_content": null,
            "justify_items": null,
            "left": null,
            "margin": null,
            "max_height": null,
            "max_width": null,
            "min_height": null,
            "min_width": null,
            "object_fit": null,
            "object_position": null,
            "order": null,
            "overflow": null,
            "overflow_x": null,
            "overflow_y": null,
            "padding": null,
            "right": null,
            "top": null,
            "visibility": null,
            "width": null
          }
        },
        "e8592498a1674971b8b7d2f9d43a38ee": {
          "model_module": "@jupyter-widgets/controls",
          "model_module_version": "1.5.0",
          "model_name": "HTMLModel",
          "state": {
            "_dom_classes": [],
            "_model_module": "@jupyter-widgets/controls",
            "_model_module_version": "1.5.0",
            "_model_name": "HTMLModel",
            "_view_count": null,
            "_view_module": "@jupyter-widgets/controls",
            "_view_module_version": "1.5.0",
            "_view_name": "HTMLView",
            "description": "",
            "description_tooltip": null,
            "layout": "IPY_MODEL_0e8b4cd75b64441ba1407591eebab517",
            "placeholder": "​",
            "style": "IPY_MODEL_e978503805bc445c8c73cfe2d2d7e920",
            "value": "vocab.txt: 100%"
          }
        },
        "e978503805bc445c8c73cfe2d2d7e920": {
          "model_module": "@jupyter-widgets/controls",
          "model_module_version": "1.5.0",
          "model_name": "DescriptionStyleModel",
          "state": {
            "_model_module": "@jupyter-widgets/controls",
            "_model_module_version": "1.5.0",
            "_model_name": "DescriptionStyleModel",
            "_view_count": null,
            "_view_module": "@jupyter-widgets/base",
            "_view_module_version": "1.2.0",
            "_view_name": "StyleView",
            "description_width": ""
          }
        },
        "e97e868ac5c240c0ae7eeb9daceeb709": {
          "model_module": "@jupyter-widgets/controls",
          "model_module_version": "1.5.0",
          "model_name": "DescriptionStyleModel",
          "state": {
            "_model_module": "@jupyter-widgets/controls",
            "_model_module_version": "1.5.0",
            "_model_name": "DescriptionStyleModel",
            "_view_count": null,
            "_view_module": "@jupyter-widgets/base",
            "_view_module_version": "1.2.0",
            "_view_name": "StyleView",
            "description_width": ""
          }
        },
        "efb6f5f0407f49068fee61b72d2bfdbf": {
          "model_module": "@jupyter-widgets/controls",
          "model_module_version": "1.5.0",
          "model_name": "DescriptionStyleModel",
          "state": {
            "_model_module": "@jupyter-widgets/controls",
            "_model_module_version": "1.5.0",
            "_model_name": "DescriptionStyleModel",
            "_view_count": null,
            "_view_module": "@jupyter-widgets/base",
            "_view_module_version": "1.2.0",
            "_view_name": "StyleView",
            "description_width": ""
          }
        },
        "f22420fc47854d89a1817c714d614ce0": {
          "model_module": "@jupyter-widgets/controls",
          "model_module_version": "1.5.0",
          "model_name": "HTMLModel",
          "state": {
            "_dom_classes": [],
            "_model_module": "@jupyter-widgets/controls",
            "_model_module_version": "1.5.0",
            "_model_name": "HTMLModel",
            "_view_count": null,
            "_view_module": "@jupyter-widgets/controls",
            "_view_module_version": "1.5.0",
            "_view_name": "HTMLView",
            "description": "",
            "description_tooltip": null,
            "layout": "IPY_MODEL_42423834d4d648a1addc480c1e446b37",
            "placeholder": "​",
            "style": "IPY_MODEL_20a3e9f9b45242688a2ac1abda072f82",
            "value": "Map: 100%"
          }
        },
        "f47f0283f67847fa9706e02187e5baea": {
          "model_module": "@jupyter-widgets/controls",
          "model_module_version": "1.5.0",
          "model_name": "ProgressStyleModel",
          "state": {
            "_model_module": "@jupyter-widgets/controls",
            "_model_module_version": "1.5.0",
            "_model_name": "ProgressStyleModel",
            "_view_count": null,
            "_view_module": "@jupyter-widgets/base",
            "_view_module_version": "1.2.0",
            "_view_name": "StyleView",
            "bar_color": null,
            "description_width": ""
          }
        },
        "fe8c4c42052943a38191ed70606b69d5": {
          "model_module": "@jupyter-widgets/controls",
          "model_module_version": "1.5.0",
          "model_name": "FloatProgressModel",
          "state": {
            "_dom_classes": [],
            "_model_module": "@jupyter-widgets/controls",
            "_model_module_version": "1.5.0",
            "_model_name": "FloatProgressModel",
            "_view_count": null,
            "_view_module": "@jupyter-widgets/controls",
            "_view_module_version": "1.5.0",
            "_view_name": "ProgressView",
            "bar_style": "success",
            "description": "",
            "description_tooltip": null,
            "layout": "IPY_MODEL_c0017e47c2a941318b612ce71e602a0f",
            "max": 48,
            "min": 0,
            "orientation": "horizontal",
            "style": "IPY_MODEL_f47f0283f67847fa9706e02187e5baea",
            "value": 48
          }
        },
        "fec6fe408ccd46259e840a9d51e32a98": {
          "model_module": "@jupyter-widgets/controls",
          "model_module_version": "1.5.0",
          "model_name": "FloatProgressModel",
          "state": {
            "_dom_classes": [],
            "_model_module": "@jupyter-widgets/controls",
            "_model_module_version": "1.5.0",
            "_model_name": "FloatProgressModel",
            "_view_count": null,
            "_view_module": "@jupyter-widgets/controls",
            "_view_module_version": "1.5.0",
            "_view_name": "ProgressView",
            "bar_style": "success",
            "description": "",
            "description_tooltip": null,
            "layout": "IPY_MODEL_306e8f591a07493cb9c5b26a7ed19676",
            "max": 10000,
            "min": 0,
            "orientation": "horizontal",
            "style": "IPY_MODEL_634ef48e533f4d8e8c4c584555c57457",
            "value": 10000
          }
        },
        "ffcdc184943e487c974770bdd2a044e7": {
          "model_module": "@jupyter-widgets/controls",
          "model_module_version": "1.5.0",
          "model_name": "HTMLModel",
          "state": {
            "_dom_classes": [],
            "_model_module": "@jupyter-widgets/controls",
            "_model_module_version": "1.5.0",
            "_model_name": "HTMLModel",
            "_view_count": null,
            "_view_module": "@jupyter-widgets/controls",
            "_view_module_version": "1.5.0",
            "_view_name": "HTMLView",
            "description": "",
            "description_tooltip": null,
            "layout": "IPY_MODEL_3ebc8e0729ad445cb70bb2001207d272",
            "placeholder": "​",
            "style": "IPY_MODEL_efb6f5f0407f49068fee61b72d2bfdbf",
            "value": "tokenizer.json: 100%"
          }
        }
      }
    }
  },
  "nbformat": 4,
  "nbformat_minor": 0
}
